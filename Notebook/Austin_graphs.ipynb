{
 "cells": [
  {
   "cell_type": "code",
   "execution_count": 35,
   "id": "d50c40b1",
   "metadata": {},
   "outputs": [],
   "source": [
    "# add matplotlib inline magic command\n",
    "%matplotlib inline\n",
    "\n",
    "#import dependencies\n",
    "import pandas as pd\n",
    "import matplotlib.pyplot as plt"
   ]
  },
  {
   "cell_type": "code",
   "execution_count": 36,
   "id": "8274a89d",
   "metadata": {},
   "outputs": [
    {
     "data": {
      "text/html": [
       "<div>\n",
       "<style scoped>\n",
       "    .dataframe tbody tr th:only-of-type {\n",
       "        vertical-align: middle;\n",
       "    }\n",
       "\n",
       "    .dataframe tbody tr th {\n",
       "        vertical-align: top;\n",
       "    }\n",
       "\n",
       "    .dataframe thead th {\n",
       "        text-align: right;\n",
       "    }\n",
       "</style>\n",
       "<table border=\"1\" class=\"dataframe\">\n",
       "  <thead>\n",
       "    <tr style=\"text-align: right;\">\n",
       "      <th></th>\n",
       "      <th>zpid</th>\n",
       "      <th>city</th>\n",
       "      <th>streetAddress</th>\n",
       "      <th>zipcode</th>\n",
       "      <th>description</th>\n",
       "      <th>latitude</th>\n",
       "      <th>longitude</th>\n",
       "      <th>propertyTaxRate</th>\n",
       "      <th>garageSpaces</th>\n",
       "      <th>hasAssociation</th>\n",
       "      <th>hasCooling</th>\n",
       "      <th>hasGarage</th>\n",
       "      <th>hasHeating</th>\n",
       "      <th>hasSpa</th>\n",
       "      <th>hasView</th>\n",
       "      <th>homeType</th>\n",
       "      <th>parkingSpaces</th>\n",
       "      <th>yearBuilt</th>\n",
       "      <th>latestPrice</th>\n",
       "      <th>numPriceChanges</th>\n",
       "      <th>latest_saledate</th>\n",
       "      <th>latest_salemonth</th>\n",
       "      <th>latest_saleyear</th>\n",
       "      <th>latestPriceSource</th>\n",
       "      <th>numOfPhotos</th>\n",
       "      <th>numOfAccessibilityFeatures</th>\n",
       "      <th>numOfAppliances</th>\n",
       "      <th>numOfParkingFeatures</th>\n",
       "      <th>numOfPatioAndPorchFeatures</th>\n",
       "      <th>numOfSecurityFeatures</th>\n",
       "      <th>numOfWaterfrontFeatures</th>\n",
       "      <th>numOfWindowFeatures</th>\n",
       "      <th>numOfCommunityFeatures</th>\n",
       "      <th>lotSizeSqFt</th>\n",
       "      <th>livingAreaSqFt</th>\n",
       "      <th>numOfPrimarySchools</th>\n",
       "      <th>numOfElementarySchools</th>\n",
       "      <th>numOfMiddleSchools</th>\n",
       "      <th>numOfHighSchools</th>\n",
       "      <th>avgSchoolDistance</th>\n",
       "      <th>avgSchoolRating</th>\n",
       "      <th>avgSchoolSize</th>\n",
       "      <th>MedianStudentsPerTeacher</th>\n",
       "      <th>numOfBathrooms</th>\n",
       "      <th>numOfBedrooms</th>\n",
       "      <th>numOfStories</th>\n",
       "      <th>homeImage</th>\n",
       "    </tr>\n",
       "  </thead>\n",
       "  <tbody>\n",
       "    <tr>\n",
       "      <th>0</th>\n",
       "      <td>111373431</td>\n",
       "      <td>pflugerville</td>\n",
       "      <td>14424 Lake Victor Dr</td>\n",
       "      <td>78660</td>\n",
       "      <td>14424 Lake Victor Dr, Pflugerville, TX 78660 i...</td>\n",
       "      <td>30.430632</td>\n",
       "      <td>-97.663078</td>\n",
       "      <td>1.98</td>\n",
       "      <td>2</td>\n",
       "      <td>True</td>\n",
       "      <td>True</td>\n",
       "      <td>True</td>\n",
       "      <td>True</td>\n",
       "      <td>False</td>\n",
       "      <td>False</td>\n",
       "      <td>Single Family</td>\n",
       "      <td>2</td>\n",
       "      <td>2012</td>\n",
       "      <td>305000.0</td>\n",
       "      <td>5</td>\n",
       "      <td>2019-09-02</td>\n",
       "      <td>9</td>\n",
       "      <td>2019</td>\n",
       "      <td>Coldwell Banker United, Realtors - South Austin</td>\n",
       "      <td>39</td>\n",
       "      <td>0</td>\n",
       "      <td>5</td>\n",
       "      <td>2</td>\n",
       "      <td>1</td>\n",
       "      <td>3</td>\n",
       "      <td>0</td>\n",
       "      <td>1</td>\n",
       "      <td>0</td>\n",
       "      <td>6011.0</td>\n",
       "      <td>2601.0</td>\n",
       "      <td>1</td>\n",
       "      <td>0</td>\n",
       "      <td>1</td>\n",
       "      <td>1</td>\n",
       "      <td>1.266667</td>\n",
       "      <td>2.666667</td>\n",
       "      <td>1063</td>\n",
       "      <td>14</td>\n",
       "      <td>3.0</td>\n",
       "      <td>4</td>\n",
       "      <td>2</td>\n",
       "      <td>111373431_ffce26843283d3365c11d81b8e6bdc6f-p_f...</td>\n",
       "    </tr>\n",
       "    <tr>\n",
       "      <th>1</th>\n",
       "      <td>120900430</td>\n",
       "      <td>pflugerville</td>\n",
       "      <td>1104 Strickling Dr</td>\n",
       "      <td>78660</td>\n",
       "      <td>Absolutely GORGEOUS 4 Bedroom home with 2 full...</td>\n",
       "      <td>30.432673</td>\n",
       "      <td>-97.661697</td>\n",
       "      <td>1.98</td>\n",
       "      <td>2</td>\n",
       "      <td>True</td>\n",
       "      <td>True</td>\n",
       "      <td>True</td>\n",
       "      <td>True</td>\n",
       "      <td>False</td>\n",
       "      <td>False</td>\n",
       "      <td>Single Family</td>\n",
       "      <td>2</td>\n",
       "      <td>2013</td>\n",
       "      <td>295000.0</td>\n",
       "      <td>1</td>\n",
       "      <td>2020-10-13</td>\n",
       "      <td>10</td>\n",
       "      <td>2020</td>\n",
       "      <td>Agent Provided</td>\n",
       "      <td>29</td>\n",
       "      <td>0</td>\n",
       "      <td>1</td>\n",
       "      <td>2</td>\n",
       "      <td>0</td>\n",
       "      <td>0</td>\n",
       "      <td>0</td>\n",
       "      <td>0</td>\n",
       "      <td>0</td>\n",
       "      <td>6185.0</td>\n",
       "      <td>1768.0</td>\n",
       "      <td>1</td>\n",
       "      <td>0</td>\n",
       "      <td>1</td>\n",
       "      <td>1</td>\n",
       "      <td>1.400000</td>\n",
       "      <td>2.666667</td>\n",
       "      <td>1063</td>\n",
       "      <td>14</td>\n",
       "      <td>2.0</td>\n",
       "      <td>4</td>\n",
       "      <td>1</td>\n",
       "      <td>120900430_8255c127be8dcf0a1a18b7563d987088-p_f...</td>\n",
       "    </tr>\n",
       "    <tr>\n",
       "      <th>2</th>\n",
       "      <td>2084491383</td>\n",
       "      <td>pflugerville</td>\n",
       "      <td>1408 Fort Dessau Rd</td>\n",
       "      <td>78660</td>\n",
       "      <td>Under construction - estimated completion in A...</td>\n",
       "      <td>30.409748</td>\n",
       "      <td>-97.639771</td>\n",
       "      <td>1.98</td>\n",
       "      <td>0</td>\n",
       "      <td>True</td>\n",
       "      <td>True</td>\n",
       "      <td>False</td>\n",
       "      <td>True</td>\n",
       "      <td>False</td>\n",
       "      <td>False</td>\n",
       "      <td>Single Family</td>\n",
       "      <td>0</td>\n",
       "      <td>2018</td>\n",
       "      <td>256125.0</td>\n",
       "      <td>1</td>\n",
       "      <td>2019-07-31</td>\n",
       "      <td>7</td>\n",
       "      <td>2019</td>\n",
       "      <td>Agent Provided</td>\n",
       "      <td>2</td>\n",
       "      <td>0</td>\n",
       "      <td>4</td>\n",
       "      <td>1</td>\n",
       "      <td>0</td>\n",
       "      <td>1</td>\n",
       "      <td>0</td>\n",
       "      <td>0</td>\n",
       "      <td>0</td>\n",
       "      <td>7840.0</td>\n",
       "      <td>1478.0</td>\n",
       "      <td>0</td>\n",
       "      <td>2</td>\n",
       "      <td>1</td>\n",
       "      <td>1</td>\n",
       "      <td>1.200000</td>\n",
       "      <td>3.000000</td>\n",
       "      <td>1108</td>\n",
       "      <td>14</td>\n",
       "      <td>2.0</td>\n",
       "      <td>3</td>\n",
       "      <td>1</td>\n",
       "      <td>2084491383_a2ad649e1a7a098111dcea084a11c855-p_...</td>\n",
       "    </tr>\n",
       "    <tr>\n",
       "      <th>3</th>\n",
       "      <td>120901374</td>\n",
       "      <td>pflugerville</td>\n",
       "      <td>1025 Strickling Dr</td>\n",
       "      <td>78660</td>\n",
       "      <td>Absolutely darling one story home in charming ...</td>\n",
       "      <td>30.432112</td>\n",
       "      <td>-97.661659</td>\n",
       "      <td>1.98</td>\n",
       "      <td>2</td>\n",
       "      <td>True</td>\n",
       "      <td>True</td>\n",
       "      <td>True</td>\n",
       "      <td>True</td>\n",
       "      <td>False</td>\n",
       "      <td>False</td>\n",
       "      <td>Single Family</td>\n",
       "      <td>2</td>\n",
       "      <td>2013</td>\n",
       "      <td>240000.0</td>\n",
       "      <td>4</td>\n",
       "      <td>2018-08-08</td>\n",
       "      <td>8</td>\n",
       "      <td>2018</td>\n",
       "      <td>Agent Provided</td>\n",
       "      <td>9</td>\n",
       "      <td>0</td>\n",
       "      <td>0</td>\n",
       "      <td>2</td>\n",
       "      <td>0</td>\n",
       "      <td>0</td>\n",
       "      <td>0</td>\n",
       "      <td>0</td>\n",
       "      <td>0</td>\n",
       "      <td>6098.0</td>\n",
       "      <td>1678.0</td>\n",
       "      <td>1</td>\n",
       "      <td>0</td>\n",
       "      <td>1</td>\n",
       "      <td>1</td>\n",
       "      <td>1.400000</td>\n",
       "      <td>2.666667</td>\n",
       "      <td>1063</td>\n",
       "      <td>14</td>\n",
       "      <td>2.0</td>\n",
       "      <td>3</td>\n",
       "      <td>1</td>\n",
       "      <td>120901374_b469367a619da85b1f5ceb69b675d88e-p_f...</td>\n",
       "    </tr>\n",
       "    <tr>\n",
       "      <th>4</th>\n",
       "      <td>60134862</td>\n",
       "      <td>pflugerville</td>\n",
       "      <td>15005 Donna Jane Loop</td>\n",
       "      <td>78660</td>\n",
       "      <td>Brimming with appeal &amp; warm livability! Sleek ...</td>\n",
       "      <td>30.437368</td>\n",
       "      <td>-97.656860</td>\n",
       "      <td>1.98</td>\n",
       "      <td>0</td>\n",
       "      <td>True</td>\n",
       "      <td>True</td>\n",
       "      <td>False</td>\n",
       "      <td>True</td>\n",
       "      <td>False</td>\n",
       "      <td>False</td>\n",
       "      <td>Single Family</td>\n",
       "      <td>0</td>\n",
       "      <td>2002</td>\n",
       "      <td>239900.0</td>\n",
       "      <td>3</td>\n",
       "      <td>2018-10-31</td>\n",
       "      <td>10</td>\n",
       "      <td>2018</td>\n",
       "      <td>Agent Provided</td>\n",
       "      <td>27</td>\n",
       "      <td>0</td>\n",
       "      <td>0</td>\n",
       "      <td>1</td>\n",
       "      <td>0</td>\n",
       "      <td>0</td>\n",
       "      <td>0</td>\n",
       "      <td>0</td>\n",
       "      <td>0</td>\n",
       "      <td>6708.0</td>\n",
       "      <td>2132.0</td>\n",
       "      <td>1</td>\n",
       "      <td>0</td>\n",
       "      <td>1</td>\n",
       "      <td>1</td>\n",
       "      <td>1.133333</td>\n",
       "      <td>4.000000</td>\n",
       "      <td>1223</td>\n",
       "      <td>14</td>\n",
       "      <td>3.0</td>\n",
       "      <td>3</td>\n",
       "      <td>2</td>\n",
       "      <td>60134862_b1a48a3df3f111e005bb913873e98ce2-p_f.jpg</td>\n",
       "    </tr>\n",
       "  </tbody>\n",
       "</table>\n",
       "</div>"
      ],
      "text/plain": [
       "         zpid          city          streetAddress  zipcode  \\\n",
       "0   111373431  pflugerville   14424 Lake Victor Dr    78660   \n",
       "1   120900430  pflugerville     1104 Strickling Dr    78660   \n",
       "2  2084491383  pflugerville    1408 Fort Dessau Rd    78660   \n",
       "3   120901374  pflugerville     1025 Strickling Dr    78660   \n",
       "4    60134862  pflugerville  15005 Donna Jane Loop    78660   \n",
       "\n",
       "                                         description   latitude  longitude  \\\n",
       "0  14424 Lake Victor Dr, Pflugerville, TX 78660 i...  30.430632 -97.663078   \n",
       "1  Absolutely GORGEOUS 4 Bedroom home with 2 full...  30.432673 -97.661697   \n",
       "2  Under construction - estimated completion in A...  30.409748 -97.639771   \n",
       "3  Absolutely darling one story home in charming ...  30.432112 -97.661659   \n",
       "4  Brimming with appeal & warm livability! Sleek ...  30.437368 -97.656860   \n",
       "\n",
       "   propertyTaxRate  garageSpaces  hasAssociation  hasCooling  hasGarage  \\\n",
       "0             1.98             2            True        True       True   \n",
       "1             1.98             2            True        True       True   \n",
       "2             1.98             0            True        True      False   \n",
       "3             1.98             2            True        True       True   \n",
       "4             1.98             0            True        True      False   \n",
       "\n",
       "   hasHeating  hasSpa  hasView       homeType  parkingSpaces  yearBuilt  \\\n",
       "0        True   False    False  Single Family              2       2012   \n",
       "1        True   False    False  Single Family              2       2013   \n",
       "2        True   False    False  Single Family              0       2018   \n",
       "3        True   False    False  Single Family              2       2013   \n",
       "4        True   False    False  Single Family              0       2002   \n",
       "\n",
       "   latestPrice  numPriceChanges latest_saledate  latest_salemonth  \\\n",
       "0     305000.0                5      2019-09-02                 9   \n",
       "1     295000.0                1      2020-10-13                10   \n",
       "2     256125.0                1      2019-07-31                 7   \n",
       "3     240000.0                4      2018-08-08                 8   \n",
       "4     239900.0                3      2018-10-31                10   \n",
       "\n",
       "   latest_saleyear                                latestPriceSource  \\\n",
       "0             2019  Coldwell Banker United, Realtors - South Austin   \n",
       "1             2020                                   Agent Provided   \n",
       "2             2019                                   Agent Provided   \n",
       "3             2018                                   Agent Provided   \n",
       "4             2018                                   Agent Provided   \n",
       "\n",
       "   numOfPhotos  numOfAccessibilityFeatures  numOfAppliances  \\\n",
       "0           39                           0                5   \n",
       "1           29                           0                1   \n",
       "2            2                           0                4   \n",
       "3            9                           0                0   \n",
       "4           27                           0                0   \n",
       "\n",
       "   numOfParkingFeatures  numOfPatioAndPorchFeatures  numOfSecurityFeatures  \\\n",
       "0                     2                           1                      3   \n",
       "1                     2                           0                      0   \n",
       "2                     1                           0                      1   \n",
       "3                     2                           0                      0   \n",
       "4                     1                           0                      0   \n",
       "\n",
       "   numOfWaterfrontFeatures  numOfWindowFeatures  numOfCommunityFeatures  \\\n",
       "0                        0                    1                       0   \n",
       "1                        0                    0                       0   \n",
       "2                        0                    0                       0   \n",
       "3                        0                    0                       0   \n",
       "4                        0                    0                       0   \n",
       "\n",
       "   lotSizeSqFt  livingAreaSqFt  numOfPrimarySchools  numOfElementarySchools  \\\n",
       "0       6011.0          2601.0                    1                       0   \n",
       "1       6185.0          1768.0                    1                       0   \n",
       "2       7840.0          1478.0                    0                       2   \n",
       "3       6098.0          1678.0                    1                       0   \n",
       "4       6708.0          2132.0                    1                       0   \n",
       "\n",
       "   numOfMiddleSchools  numOfHighSchools  avgSchoolDistance  avgSchoolRating  \\\n",
       "0                   1                 1           1.266667         2.666667   \n",
       "1                   1                 1           1.400000         2.666667   \n",
       "2                   1                 1           1.200000         3.000000   \n",
       "3                   1                 1           1.400000         2.666667   \n",
       "4                   1                 1           1.133333         4.000000   \n",
       "\n",
       "   avgSchoolSize  MedianStudentsPerTeacher  numOfBathrooms  numOfBedrooms  \\\n",
       "0           1063                        14             3.0              4   \n",
       "1           1063                        14             2.0              4   \n",
       "2           1108                        14             2.0              3   \n",
       "3           1063                        14             2.0              3   \n",
       "4           1223                        14             3.0              3   \n",
       "\n",
       "   numOfStories                                          homeImage  \n",
       "0             2  111373431_ffce26843283d3365c11d81b8e6bdc6f-p_f...  \n",
       "1             1  120900430_8255c127be8dcf0a1a18b7563d987088-p_f...  \n",
       "2             1  2084491383_a2ad649e1a7a098111dcea084a11c855-p_...  \n",
       "3             1  120901374_b469367a619da85b1f5ceb69b675d88e-p_f...  \n",
       "4             2  60134862_b1a48a3df3f111e005bb913873e98ce2-p_f.jpg  "
      ]
     },
     "execution_count": 36,
     "metadata": {},
     "output_type": "execute_result"
    }
   ],
   "source": [
    "file_path = '../Resources/austinHousingData.csv'\n",
    "\n",
    "a_housing_df = pd.read_csv(file_path)\n",
    "\n",
    "pd.set_option(\"display.max_columns\", None)\n",
    "a_housing_df.head()"
   ]
  },
  {
   "cell_type": "code",
   "execution_count": 37,
   "id": "87e09e86",
   "metadata": {
    "scrolled": false
   },
   "outputs": [
    {
     "data": {
      "text/plain": [
       "array([2019, 2020, 2018, 2021], dtype=int64)"
      ]
     },
     "execution_count": 37,
     "metadata": {},
     "output_type": "execute_result"
    }
   ],
   "source": [
    "a_housing_df['latest_saleyear'].unique()"
   ]
  },
  {
   "cell_type": "code",
   "execution_count": 38,
   "id": "f58cfcf5",
   "metadata": {},
   "outputs": [
    {
     "data": {
      "text/plain": [
       "latest_saleyear\n",
       "2018    485347.659158\n",
       "2019    496729.301876\n",
       "2020    548843.931315\n",
       "2021    630327.951807\n",
       "Name: latestPrice, dtype: float64"
      ]
     },
     "execution_count": 38,
     "metadata": {},
     "output_type": "execute_result"
    }
   ],
   "source": [
    "mean_price_by_year = a_housing_df.groupby(['latest_saleyear']).mean()['latestPrice']\n",
    "mean_price_by_year"
   ]
  },
  {
   "cell_type": "code",
   "execution_count": 39,
   "id": "4884b43e",
   "metadata": {},
   "outputs": [
    {
     "data": {
      "text/plain": [
       "Text(0.5, 1.0, 'Housing price by year')"
      ]
     },
     "execution_count": 39,
     "metadata": {},
     "output_type": "execute_result"
    },
    {
     "data": {
      "image/png": "[encoded data removed]",
      "text/plain": [
       "<Figure size 432x288 with 1 Axes>"
      ]
     },
     "metadata": {
      "needs_background": "light"
     },
     "output_type": "display_data"
    }
   ],
   "source": [
    "plt.bar(['2018', '2019', '2020', '2021'], mean_price_by_year)\n",
    "plt.title('Housing price by year', fontsize=20)"
   ]
  },
  {
   "cell_type": "code",
   "execution_count": 74,
   "id": "d337233b",
   "metadata": {},
   "outputs": [
    {
     "data": {
      "text/plain": [
       "Text(0.5, 1.0, 'Housing price by lot size')"
      ]
     },
     "execution_count": 74,
     "metadata": {},
     "output_type": "execute_result"
    },
    {
     "data": {
      "image/png": "[encoded data removed]",
      "text/plain": [
       "<Figure size 432x288 with 1 Axes>"
      ]
     },
     "metadata": {
      "needs_background": "light"
     },
     "output_type": "display_data"
    }
   ],
   "source": [
    "a_housing_forScatter = a_housing_df.loc[a_housing_df['lotSizeSqFt'] < 10000]\n",
    "\n",
    "plt.scatter(a_housing_forScatter['latestPrice'], a_housing_forScatter['lotSizeSqFt'])\n",
    "plt.title('Housing price by lot size', fontsize=20)"
   ]
  },
  {
   "cell_type": "code",
   "execution_count": 77,
   "id": "78602886",
   "metadata": {},
   "outputs": [
    {
     "data": {
      "text/plain": [
       "Text(0.5, 1.0, 'Housing price by living area size')"
      ]
     },
     "execution_count": 77,
     "metadata": {},
     "output_type": "execute_result"
    },
    {
     "data": {
      "image/png": "[encoded data removed]",
      "text/plain": [
       "<Figure size 432x288 with 1 Axes>"
      ]
     },
     "metadata": {
      "needs_background": "light"
     },
     "output_type": "display_data"
    }
   ],
   "source": [
    "plt.scatter(a_housing_forScatter['latestPrice'], a_housing_forScatter['livingAreaSqFt'])\n",
    "plt.title('Housing price by living area size', fontsize=20)"
   ]
  },
  {
   "cell_type": "code",
   "execution_count": 81,
   "id": "208c4f09",
   "metadata": {},
   "outputs": [
    {
     "data": {
      "text/plain": [
       "Text(0.5, 1.0, 'Housing price by age')"
      ]
     },
     "execution_count": 81,
     "metadata": {},
     "output_type": "execute_result"
    },
    {
     "data": {
      "image/png": "[encoded data removed]",
      "text/plain": [
       "<Figure size 432x288 with 1 Axes>"
      ]
     },
     "metadata": {
      "needs_background": "light"
     },
     "output_type": "display_data"
    }
   ],
   "source": [
    "plt.bar(a_housing_df['yearBuilt'], a_housing_df['latestPrice'])\n",
    "plt.title('Housing price by age', fontsize=20)"
   ]
  },
  {
   "cell_type": "code",
   "execution_count": 79,
   "id": "2f7f6c84",
   "metadata": {},
   "outputs": [
    {
     "data": {
      "text/plain": [
       "array([2012, 2013, 2018, 2002, 2020, 2016, 2005, 2003, 2010, 2000, 2009,\n",
       "       2014, 2007, 2006, 2008, 2015, 1999, 2004, 1970, 1985, 1988, 1992,\n",
       "       1991, 2011, 1993, 1989, 1982, 1990, 1996, 1976, 1997, 1995, 1987,\n",
       "       2001, 1983, 1977, 2017, 1984, 1971, 1972, 2019, 1975, 1980, 1994,\n",
       "       1998, 1986, 1965, 1962, 1968, 1979, 1960, 1978, 1981, 1957, 1963,\n",
       "       1974, 1973, 1969, 1939, 1929, 1950, 1967, 1964, 1958, 1955, 1966,\n",
       "       1961, 1959, 1956, 1930, 1952, 1949, 1945, 1940, 1946, 1947, 1944,\n",
       "       1948, 1936, 1935, 1954, 1927, 1953, 1937, 1925, 1920, 1919, 1932,\n",
       "       1914, 1924, 1910, 1934, 1941, 1938, 1909, 1933, 1928, 1916, 1917,\n",
       "       1931, 1942, 1951, 1926, 1915, 1907, 1943, 1906, 1911, 1921, 1912,\n",
       "       1923, 1908, 1922, 1918, 1905], dtype=int64)"
      ]
     },
     "execution_count": 79,
     "metadata": {},
     "output_type": "execute_result"
    }
   ],
   "source": [
    "a_housing_df['yearBuilt'].unique()"
   ]
  },
  {
   "cell_type": "code",
   "execution_count": null,
   "id": "88f2c9d7",
   "metadata": {},
   "outputs": [],
   "source": []
  }
 ],
 "metadata": {
  "kernelspec": {
   "display_name": "mlenv",
   "language": "python",
   "name": "mlenv"
  },
  "language_info": {
   "codemirror_mode": {
    "name": "ipython",
    "version": 3
   },
   "file_extension": ".py",
   "mimetype": "text/x-python",
   "name": "python",
   "nbconvert_exporter": "python",
   "pygments_lexer": "ipython3",
   "version": "3.7.10"
  }
 },
 "nbformat": 4,
 "nbformat_minor": 5
}
