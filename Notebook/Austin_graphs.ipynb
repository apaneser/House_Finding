{
 "cells": [
  {
   "cell_type": "code",
   "execution_count": 2,
   "id": "d50c40b1",
   "metadata": {},
   "outputs": [],
   "source": [
    "# add matplotlib inline magic command\n",
    "%matplotlib inline\n",
    "\n",
    "#import dependencies\n",
    "import pandas as pd\n",
    "import matplotlib.pyplot as plt"
   ]
  },
  {
   "cell_type": "code",
   "execution_count": 3,
   "id": "8274a89d",
   "metadata": {},
   "outputs": [
    {
     "data": {
      "text/html": [
       "<div>\n",
       "<style scoped>\n",
       "    .dataframe tbody tr th:only-of-type {\n",
       "        vertical-align: middle;\n",
       "    }\n",
       "\n",
       "    .dataframe tbody tr th {\n",
       "        vertical-align: top;\n",
       "    }\n",
       "\n",
       "    .dataframe thead th {\n",
       "        text-align: right;\n",
       "    }\n",
       "</style>\n",
       "<table border=\"1\" class=\"dataframe\">\n",
       "  <thead>\n",
       "    <tr style=\"text-align: right;\">\n",
       "      <th></th>\n",
       "      <th>zpid</th>\n",
       "      <th>city</th>\n",
       "      <th>streetAddress</th>\n",
       "      <th>zipcode</th>\n",
       "      <th>description</th>\n",
       "      <th>latitude</th>\n",
       "      <th>longitude</th>\n",
       "      <th>propertyTaxRate</th>\n",
       "      <th>garageSpaces</th>\n",
       "      <th>hasAssociation</th>\n",
       "      <th>hasCooling</th>\n",
       "      <th>hasGarage</th>\n",
       "      <th>hasHeating</th>\n",
       "      <th>hasSpa</th>\n",
       "      <th>hasView</th>\n",
       "      <th>homeType</th>\n",
       "      <th>parkingSpaces</th>\n",
       "      <th>yearBuilt</th>\n",
       "      <th>latestPrice</th>\n",
       "      <th>numPriceChanges</th>\n",
       "      <th>latest_saledate</th>\n",
       "      <th>latest_salemonth</th>\n",
       "      <th>latest_saleyear</th>\n",
       "      <th>latestPriceSource</th>\n",
       "      <th>numOfPhotos</th>\n",
       "      <th>numOfAccessibilityFeatures</th>\n",
       "      <th>numOfAppliances</th>\n",
       "      <th>numOfParkingFeatures</th>\n",
       "      <th>numOfPatioAndPorchFeatures</th>\n",
       "      <th>numOfSecurityFeatures</th>\n",
       "      <th>numOfWaterfrontFeatures</th>\n",
       "      <th>numOfWindowFeatures</th>\n",
       "      <th>numOfCommunityFeatures</th>\n",
       "      <th>lotSizeSqFt</th>\n",
       "      <th>livingAreaSqFt</th>\n",
       "      <th>numOfPrimarySchools</th>\n",
       "      <th>numOfElementarySchools</th>\n",
       "      <th>numOfMiddleSchools</th>\n",
       "      <th>numOfHighSchools</th>\n",
       "      <th>avgSchoolDistance</th>\n",
       "      <th>avgSchoolRating</th>\n",
       "      <th>avgSchoolSize</th>\n",
       "      <th>MedianStudentsPerTeacher</th>\n",
       "      <th>numOfBathrooms</th>\n",
       "      <th>numOfBedrooms</th>\n",
       "      <th>numOfStories</th>\n",
       "      <th>homeImage</th>\n",
       "    </tr>\n",
       "  </thead>\n",
       "  <tbody>\n",
       "    <tr>\n",
       "      <th>0</th>\n",
       "      <td>111373431</td>\n",
       "      <td>pflugerville</td>\n",
       "      <td>14424 Lake Victor Dr</td>\n",
       "      <td>78660</td>\n",
       "      <td>14424 Lake Victor Dr, Pflugerville, TX 78660 i...</td>\n",
       "      <td>30.430632</td>\n",
       "      <td>-97.663078</td>\n",
       "      <td>1.98</td>\n",
       "      <td>2</td>\n",
       "      <td>True</td>\n",
       "      <td>True</td>\n",
       "      <td>True</td>\n",
       "      <td>True</td>\n",
       "      <td>False</td>\n",
       "      <td>False</td>\n",
       "      <td>Single Family</td>\n",
       "      <td>2</td>\n",
       "      <td>2012</td>\n",
       "      <td>305000.0</td>\n",
       "      <td>5</td>\n",
       "      <td>2019-09-02</td>\n",
       "      <td>9</td>\n",
       "      <td>2019</td>\n",
       "      <td>Coldwell Banker United, Realtors - South Austin</td>\n",
       "      <td>39</td>\n",
       "      <td>0</td>\n",
       "      <td>5</td>\n",
       "      <td>2</td>\n",
       "      <td>1</td>\n",
       "      <td>3</td>\n",
       "      <td>0</td>\n",
       "      <td>1</td>\n",
       "      <td>0</td>\n",
       "      <td>6011.0</td>\n",
       "      <td>2601.0</td>\n",
       "      <td>1</td>\n",
       "      <td>0</td>\n",
       "      <td>1</td>\n",
       "      <td>1</td>\n",
       "      <td>1.266667</td>\n",
       "      <td>2.666667</td>\n",
       "      <td>1063</td>\n",
       "      <td>14</td>\n",
       "      <td>3.0</td>\n",
       "      <td>4</td>\n",
       "      <td>2</td>\n",
       "      <td>111373431_ffce26843283d3365c11d81b8e6bdc6f-p_f...</td>\n",
       "    </tr>\n",
       "    <tr>\n",
       "      <th>1</th>\n",
       "      <td>120900430</td>\n",
       "      <td>pflugerville</td>\n",
       "      <td>1104 Strickling Dr</td>\n",
       "      <td>78660</td>\n",
       "      <td>Absolutely GORGEOUS 4 Bedroom home with 2 full...</td>\n",
       "      <td>30.432673</td>\n",
       "      <td>-97.661697</td>\n",
       "      <td>1.98</td>\n",
       "      <td>2</td>\n",
       "      <td>True</td>\n",
       "      <td>True</td>\n",
       "      <td>True</td>\n",
       "      <td>True</td>\n",
       "      <td>False</td>\n",
       "      <td>False</td>\n",
       "      <td>Single Family</td>\n",
       "      <td>2</td>\n",
       "      <td>2013</td>\n",
       "      <td>295000.0</td>\n",
       "      <td>1</td>\n",
       "      <td>2020-10-13</td>\n",
       "      <td>10</td>\n",
       "      <td>2020</td>\n",
       "      <td>Agent Provided</td>\n",
       "      <td>29</td>\n",
       "      <td>0</td>\n",
       "      <td>1</td>\n",
       "      <td>2</td>\n",
       "      <td>0</td>\n",
       "      <td>0</td>\n",
       "      <td>0</td>\n",
       "      <td>0</td>\n",
       "      <td>0</td>\n",
       "      <td>6185.0</td>\n",
       "      <td>1768.0</td>\n",
       "      <td>1</td>\n",
       "      <td>0</td>\n",
       "      <td>1</td>\n",
       "      <td>1</td>\n",
       "      <td>1.400000</td>\n",
       "      <td>2.666667</td>\n",
       "      <td>1063</td>\n",
       "      <td>14</td>\n",
       "      <td>2.0</td>\n",
       "      <td>4</td>\n",
       "      <td>1</td>\n",
       "      <td>120900430_8255c127be8dcf0a1a18b7563d987088-p_f...</td>\n",
       "    </tr>\n",
       "    <tr>\n",
       "      <th>2</th>\n",
       "      <td>2084491383</td>\n",
       "      <td>pflugerville</td>\n",
       "      <td>1408 Fort Dessau Rd</td>\n",
       "      <td>78660</td>\n",
       "      <td>Under construction - estimated completion in A...</td>\n",
       "      <td>30.409748</td>\n",
       "      <td>-97.639771</td>\n",
       "      <td>1.98</td>\n",
       "      <td>0</td>\n",
       "      <td>True</td>\n",
       "      <td>True</td>\n",
       "      <td>False</td>\n",
       "      <td>True</td>\n",
       "      <td>False</td>\n",
       "      <td>False</td>\n",
       "      <td>Single Family</td>\n",
       "      <td>0</td>\n",
       "      <td>2018</td>\n",
       "      <td>256125.0</td>\n",
       "      <td>1</td>\n",
       "      <td>2019-07-31</td>\n",
       "      <td>7</td>\n",
       "      <td>2019</td>\n",
       "      <td>Agent Provided</td>\n",
       "      <td>2</td>\n",
       "      <td>0</td>\n",
       "      <td>4</td>\n",
       "      <td>1</td>\n",
       "      <td>0</td>\n",
       "      <td>1</td>\n",
       "      <td>0</td>\n",
       "      <td>0</td>\n",
       "      <td>0</td>\n",
       "      <td>7840.0</td>\n",
       "      <td>1478.0</td>\n",
       "      <td>0</td>\n",
       "      <td>2</td>\n",
       "      <td>1</td>\n",
       "      <td>1</td>\n",
       "      <td>1.200000</td>\n",
       "      <td>3.000000</td>\n",
       "      <td>1108</td>\n",
       "      <td>14</td>\n",
       "      <td>2.0</td>\n",
       "      <td>3</td>\n",
       "      <td>1</td>\n",
       "      <td>2084491383_a2ad649e1a7a098111dcea084a11c855-p_...</td>\n",
       "    </tr>\n",
       "    <tr>\n",
       "      <th>3</th>\n",
       "      <td>120901374</td>\n",
       "      <td>pflugerville</td>\n",
       "      <td>1025 Strickling Dr</td>\n",
       "      <td>78660</td>\n",
       "      <td>Absolutely darling one story home in charming ...</td>\n",
       "      <td>30.432112</td>\n",
       "      <td>-97.661659</td>\n",
       "      <td>1.98</td>\n",
       "      <td>2</td>\n",
       "      <td>True</td>\n",
       "      <td>True</td>\n",
       "      <td>True</td>\n",
       "      <td>True</td>\n",
       "      <td>False</td>\n",
       "      <td>False</td>\n",
       "      <td>Single Family</td>\n",
       "      <td>2</td>\n",
       "      <td>2013</td>\n",
       "      <td>240000.0</td>\n",
       "      <td>4</td>\n",
       "      <td>2018-08-08</td>\n",
       "      <td>8</td>\n",
       "      <td>2018</td>\n",
       "      <td>Agent Provided</td>\n",
       "      <td>9</td>\n",
       "      <td>0</td>\n",
       "      <td>0</td>\n",
       "      <td>2</td>\n",
       "      <td>0</td>\n",
       "      <td>0</td>\n",
       "      <td>0</td>\n",
       "      <td>0</td>\n",
       "      <td>0</td>\n",
       "      <td>6098.0</td>\n",
       "      <td>1678.0</td>\n",
       "      <td>1</td>\n",
       "      <td>0</td>\n",
       "      <td>1</td>\n",
       "      <td>1</td>\n",
       "      <td>1.400000</td>\n",
       "      <td>2.666667</td>\n",
       "      <td>1063</td>\n",
       "      <td>14</td>\n",
       "      <td>2.0</td>\n",
       "      <td>3</td>\n",
       "      <td>1</td>\n",
       "      <td>120901374_b469367a619da85b1f5ceb69b675d88e-p_f...</td>\n",
       "    </tr>\n",
       "    <tr>\n",
       "      <th>4</th>\n",
       "      <td>60134862</td>\n",
       "      <td>pflugerville</td>\n",
       "      <td>15005 Donna Jane Loop</td>\n",
       "      <td>78660</td>\n",
       "      <td>Brimming with appeal &amp; warm livability! Sleek ...</td>\n",
       "      <td>30.437368</td>\n",
       "      <td>-97.656860</td>\n",
       "      <td>1.98</td>\n",
       "      <td>0</td>\n",
       "      <td>True</td>\n",
       "      <td>True</td>\n",
       "      <td>False</td>\n",
       "      <td>True</td>\n",
       "      <td>False</td>\n",
       "      <td>False</td>\n",
       "      <td>Single Family</td>\n",
       "      <td>0</td>\n",
       "      <td>2002</td>\n",
       "      <td>239900.0</td>\n",
       "      <td>3</td>\n",
       "      <td>2018-10-31</td>\n",
       "      <td>10</td>\n",
       "      <td>2018</td>\n",
       "      <td>Agent Provided</td>\n",
       "      <td>27</td>\n",
       "      <td>0</td>\n",
       "      <td>0</td>\n",
       "      <td>1</td>\n",
       "      <td>0</td>\n",
       "      <td>0</td>\n",
       "      <td>0</td>\n",
       "      <td>0</td>\n",
       "      <td>0</td>\n",
       "      <td>6708.0</td>\n",
       "      <td>2132.0</td>\n",
       "      <td>1</td>\n",
       "      <td>0</td>\n",
       "      <td>1</td>\n",
       "      <td>1</td>\n",
       "      <td>1.133333</td>\n",
       "      <td>4.000000</td>\n",
       "      <td>1223</td>\n",
       "      <td>14</td>\n",
       "      <td>3.0</td>\n",
       "      <td>3</td>\n",
       "      <td>2</td>\n",
       "      <td>60134862_b1a48a3df3f111e005bb913873e98ce2-p_f.jpg</td>\n",
       "    </tr>\n",
       "  </tbody>\n",
       "</table>\n",
       "</div>"
      ],
      "text/plain": [
       "         zpid          city          streetAddress  zipcode  \\\n",
       "0   111373431  pflugerville   14424 Lake Victor Dr    78660   \n",
       "1   120900430  pflugerville     1104 Strickling Dr    78660   \n",
       "2  2084491383  pflugerville    1408 Fort Dessau Rd    78660   \n",
       "3   120901374  pflugerville     1025 Strickling Dr    78660   \n",
       "4    60134862  pflugerville  15005 Donna Jane Loop    78660   \n",
       "\n",
       "                                         description   latitude  longitude  \\\n",
       "0  14424 Lake Victor Dr, Pflugerville, TX 78660 i...  30.430632 -97.663078   \n",
       "1  Absolutely GORGEOUS 4 Bedroom home with 2 full...  30.432673 -97.661697   \n",
       "2  Under construction - estimated completion in A...  30.409748 -97.639771   \n",
       "3  Absolutely darling one story home in charming ...  30.432112 -97.661659   \n",
       "4  Brimming with appeal & warm livability! Sleek ...  30.437368 -97.656860   \n",
       "\n",
       "   propertyTaxRate  garageSpaces  hasAssociation  hasCooling  hasGarage  \\\n",
       "0             1.98             2            True        True       True   \n",
       "1             1.98             2            True        True       True   \n",
       "2             1.98             0            True        True      False   \n",
       "3             1.98             2            True        True       True   \n",
       "4             1.98             0            True        True      False   \n",
       "\n",
       "   hasHeating  hasSpa  hasView       homeType  parkingSpaces  yearBuilt  \\\n",
       "0        True   False    False  Single Family              2       2012   \n",
       "1        True   False    False  Single Family              2       2013   \n",
       "2        True   False    False  Single Family              0       2018   \n",
       "3        True   False    False  Single Family              2       2013   \n",
       "4        True   False    False  Single Family              0       2002   \n",
       "\n",
       "   latestPrice  numPriceChanges latest_saledate  latest_salemonth  \\\n",
       "0     305000.0                5      2019-09-02                 9   \n",
       "1     295000.0                1      2020-10-13                10   \n",
       "2     256125.0                1      2019-07-31                 7   \n",
       "3     240000.0                4      2018-08-08                 8   \n",
       "4     239900.0                3      2018-10-31                10   \n",
       "\n",
       "   latest_saleyear                                latestPriceSource  \\\n",
       "0             2019  Coldwell Banker United, Realtors - South Austin   \n",
       "1             2020                                   Agent Provided   \n",
       "2             2019                                   Agent Provided   \n",
       "3             2018                                   Agent Provided   \n",
       "4             2018                                   Agent Provided   \n",
       "\n",
       "   numOfPhotos  numOfAccessibilityFeatures  numOfAppliances  \\\n",
       "0           39                           0                5   \n",
       "1           29                           0                1   \n",
       "2            2                           0                4   \n",
       "3            9                           0                0   \n",
       "4           27                           0                0   \n",
       "\n",
       "   numOfParkingFeatures  numOfPatioAndPorchFeatures  numOfSecurityFeatures  \\\n",
       "0                     2                           1                      3   \n",
       "1                     2                           0                      0   \n",
       "2                     1                           0                      1   \n",
       "3                     2                           0                      0   \n",
       "4                     1                           0                      0   \n",
       "\n",
       "   numOfWaterfrontFeatures  numOfWindowFeatures  numOfCommunityFeatures  \\\n",
       "0                        0                    1                       0   \n",
       "1                        0                    0                       0   \n",
       "2                        0                    0                       0   \n",
       "3                        0                    0                       0   \n",
       "4                        0                    0                       0   \n",
       "\n",
       "   lotSizeSqFt  livingAreaSqFt  numOfPrimarySchools  numOfElementarySchools  \\\n",
       "0       6011.0          2601.0                    1                       0   \n",
       "1       6185.0          1768.0                    1                       0   \n",
       "2       7840.0          1478.0                    0                       2   \n",
       "3       6098.0          1678.0                    1                       0   \n",
       "4       6708.0          2132.0                    1                       0   \n",
       "\n",
       "   numOfMiddleSchools  numOfHighSchools  avgSchoolDistance  avgSchoolRating  \\\n",
       "0                   1                 1           1.266667         2.666667   \n",
       "1                   1                 1           1.400000         2.666667   \n",
       "2                   1                 1           1.200000         3.000000   \n",
       "3                   1                 1           1.400000         2.666667   \n",
       "4                   1                 1           1.133333         4.000000   \n",
       "\n",
       "   avgSchoolSize  MedianStudentsPerTeacher  numOfBathrooms  numOfBedrooms  \\\n",
       "0           1063                        14             3.0              4   \n",
       "1           1063                        14             2.0              4   \n",
       "2           1108                        14             2.0              3   \n",
       "3           1063                        14             2.0              3   \n",
       "4           1223                        14             3.0              3   \n",
       "\n",
       "   numOfStories                                          homeImage  \n",
       "0             2  111373431_ffce26843283d3365c11d81b8e6bdc6f-p_f...  \n",
       "1             1  120900430_8255c127be8dcf0a1a18b7563d987088-p_f...  \n",
       "2             1  2084491383_a2ad649e1a7a098111dcea084a11c855-p_...  \n",
       "3             1  120901374_b469367a619da85b1f5ceb69b675d88e-p_f...  \n",
       "4             2  60134862_b1a48a3df3f111e005bb913873e98ce2-p_f.jpg  "
      ]
     },
     "execution_count": 3,
     "metadata": {},
     "output_type": "execute_result"
    }
   ],
   "source": [
    "file_path = '../Resources/austinHousingData.csv'\n",
    "\n",
    "a_housing_df = pd.read_csv(file_path)\n",
    "\n",
    "pd.set_option(\"display.max_columns\", None)\n",
    "a_housing_df.head()"
   ]
  },
  {
   "cell_type": "code",
   "execution_count": 4,
   "id": "87e09e86",
   "metadata": {
    "scrolled": false
   },
   "outputs": [
    {
     "data": {
      "text/plain": [
       "array([2019, 2020, 2018, 2021], dtype=int64)"
      ]
     },
     "execution_count": 4,
     "metadata": {},
     "output_type": "execute_result"
    }
   ],
   "source": [
    "a_housing_df['latest_saleyear'].unique()"
   ]
  },
  {
   "cell_type": "code",
   "execution_count": 5,
   "id": "f58cfcf5",
   "metadata": {},
   "outputs": [
    {
     "data": {
      "text/plain": [
       "latest_saleyear\n",
       "2018    485347.659158\n",
       "2019    496729.301876\n",
       "2020    548843.931315\n",
       "2021    630327.951807\n",
       "Name: latestPrice, dtype: float64"
      ]
     },
     "execution_count": 5,
     "metadata": {},
     "output_type": "execute_result"
    }
   ],
   "source": [
    "mean_price_by_year = a_housing_df.groupby(['latest_saleyear']).mean()['latestPrice']\n",
    "mean_price_by_year"
   ]
  },
  {
   "cell_type": "code",
   "execution_count": 6,
   "id": "4884b43e",
   "metadata": {
    "scrolled": true
   },
   "outputs": [
    {
     "data": {
      "text/plain": [
       "Text(0.5, 1.0, 'Housing price by year')"
      ]
     },
     "execution_count": 6,
     "metadata": {},
     "output_type": "execute_result"
    },
    {
     "data": {
      "image/png": "[encoded data removed]",
      "text/plain": [
       "<Figure size 432x288 with 1 Axes>"
      ]
     },
     "metadata": {
      "needs_background": "light"
     },
     "output_type": "display_data"
    }
   ],
   "source": [
    "plt.bar(['2018', '2019', '2020', '2021'], mean_price_by_year)\n",
    "plt.title('Housing price by year', fontsize=20)"
   ]
  },
  {
   "cell_type": "code",
   "execution_count": 7,
   "id": "d337233b",
   "metadata": {},
   "outputs": [
    {
     "data": {
      "text/plain": [
       "Text(0.5, 1.0, 'Housing price by lot size')"
      ]
     },
     "execution_count": 7,
     "metadata": {},
     "output_type": "execute_result"
    },
    {
     "data": {
      "image/png": "[encoded data removed]",
      "text/plain": [
       "<Figure size 432x288 with 1 Axes>"
      ]
     },
     "metadata": {
      "needs_background": "light"
     },
     "output_type": "display_data"
    }
   ],
   "source": [
    "a_housing_forScatter = a_housing_df.loc[a_housing_df['lotSizeSqFt'] < 10000]\n",
    "\n",
    "plt.scatter(a_housing_forScatter['latestPrice'], a_housing_forScatter['lotSizeSqFt'])\n",
    "plt.title('Housing price by lot size', fontsize=20)"
   ]
  },
  {
   "cell_type": "code",
   "execution_count": 8,
   "id": "78602886",
   "metadata": {},
   "outputs": [
    {
     "data": {
      "text/plain": [
       "Text(0.5, 1.0, 'Housing price by living area size')"
      ]
     },
     "execution_count": 8,
     "metadata": {},
     "output_type": "execute_result"
    },
    {
     "data": {
      "image/png": "[encoded data removed]",
      "text/plain": [
       "<Figure size 432x288 with 1 Axes>"
      ]
     },
     "metadata": {
      "needs_background": "light"
     },
     "output_type": "display_data"
    }
   ],
   "source": [
    "plt.scatter(a_housing_forScatter['latestPrice'], a_housing_forScatter['livingAreaSqFt'])\n",
    "plt.title('Housing price by living area size', fontsize=20)"
   ]
  },
  {
   "cell_type": "code",
   "execution_count": 9,
   "id": "208c4f09",
   "metadata": {},
   "outputs": [
    {
     "data": {
      "text/plain": [
       "Text(0.5, 1.0, 'Housing price by age')"
      ]
     },
     "execution_count": 9,
     "metadata": {},
     "output_type": "execute_result"
    },
    {
     "data": {
      "image/png": "[encoded data removed]",
      "text/plain": [
       "<Figure size 432x288 with 1 Axes>"
      ]
     },
     "metadata": {
      "needs_background": "light"
     },
     "output_type": "display_data"
    }
   ],
   "source": [
    "plt.bar(a_housing_df['yearBuilt'], a_housing_df['latestPrice'])\n",
    "plt.title('Housing price by age', fontsize=20)"
   ]
  },
  {
   "cell_type": "code",
   "execution_count": 10,
   "id": "2f7f6c84",
   "metadata": {},
   "outputs": [
    {
     "data": {
      "text/plain": [
       "Text(0.5, 1.0, 'Housing locations')"
      ]
     },
     "execution_count": 10,
     "metadata": {},
     "output_type": "execute_result"
    },
    {
     "data": {
      "image/png": "[encoded data removed]",
      "text/plain": [
       "<Figure size 432x288 with 1 Axes>"
      ]
     },
     "metadata": {
      "needs_background": "light"
     },
     "output_type": "display_data"
    }
   ],
   "source": [
    "plt.scatter(a_housing_forScatter['latitude'], a_housing_forScatter['longitude'])\n",
    "plt.title('Housing locations', fontsize=20)"
   ]
  },
  {
   "cell_type": "code",
   "execution_count": 11,
   "id": "88f2c9d7",
   "metadata": {},
   "outputs": [
    {
     "data": {
      "text/plain": [
       "numOfBedrooms\n",
       "0     8.254913e+05\n",
       "1     3.851028e+05\n",
       "2     3.995079e+05\n",
       "3     4.047371e+05\n",
       "4     5.793386e+05\n",
       "5     8.895394e+05\n",
       "6     1.404393e+06\n",
       "7     2.195230e+06\n",
       "8     4.957043e+05\n",
       "10    5.250000e+05\n",
       "20    1.749000e+05\n",
       "Name: latestPrice, dtype: float64"
      ]
     },
     "execution_count": 11,
     "metadata": {},
     "output_type": "execute_result"
    }
   ],
   "source": [
    "mean_price_by_bedrooms = a_housing_df.groupby(['numOfBedrooms']).mean()['latestPrice']\n",
    "mean_price_by_bedrooms"
   ]
  },
  {
   "cell_type": "code",
   "execution_count": 39,
   "id": "17cc9b67",
   "metadata": {},
   "outputs": [
    {
     "data": {
      "text/plain": [
       "Text(0.5, 1.0, 'Mean Housing price by Bedrooms')"
      ]
     },
     "execution_count": 39,
     "metadata": {},
     "output_type": "execute_result"
    },
    {
     "data": {
      "image/png": "[encoded data removed]",
      "text/plain": [
       "<Figure size 432x288 with 1 Axes>"
      ]
     },
     "metadata": {
      "needs_background": "light"
     },
     "output_type": "display_data"
    }
   ],
   "source": [
    "plt.bar(['0', '1', '2', '3', '4', '5', '6', '7', '8', '10', '20'], mean_price_by_bedrooms)\n",
    "plt.title('Mean Housing price by Bedrooms', fontsize=15)"
   ]
  },
  {
   "cell_type": "code",
   "execution_count": 23,
   "id": "95ceb3e7",
   "metadata": {},
   "outputs": [
    {
     "data": {
      "text/plain": [
       "numOfStories\n",
       "1    4.372316e+05\n",
       "2    5.914100e+05\n",
       "3    1.053647e+06\n",
       "4    7.974500e+05\n",
       "Name: latestPrice, dtype: float64"
      ]
     },
     "execution_count": 23,
     "metadata": {},
     "output_type": "execute_result"
    }
   ],
   "source": [
    "mean_price_by_stories = a_housing_df.groupby(['numOfStories']).mean()['latestPrice']\n",
    "mean_price_by_stories"
   ]
  },
  {
   "cell_type": "code",
   "execution_count": 26,
   "id": "c63f76fc",
   "metadata": {},
   "outputs": [
    {
     "data": {
      "text/plain": [
       "Text(0.5, 1.0, 'Mean Housing price by number of Stories')"
      ]
     },
     "execution_count": 26,
     "metadata": {},
     "output_type": "execute_result"
    },
    {
     "data": {
      "image/png": "[encoded data removed]",
      "text/plain": [
       "<Figure size 432x288 with 1 Axes>"
      ]
     },
     "metadata": {
      "needs_background": "light"
     },
     "output_type": "display_data"
    }
   ],
   "source": [
    "plt.bar([1, 2, 3, 4], mean_price_by_stories)\n",
    "plt.title('Mean Housing price by number of Stories', fontsize=15)"
   ]
  },
  {
   "cell_type": "code",
   "execution_count": 33,
   "id": "736fe09b",
   "metadata": {},
   "outputs": [
    {
     "data": {
      "text/plain": [
       "avgSchoolRating\n",
       "2.333333    4.018454e+05\n",
       "2.666667    2.897940e+05\n",
       "3.000000    3.193639e+05\n",
       "3.333333    3.247657e+05\n",
       "3.500000    7.623750e+05\n",
       "3.666667    3.300573e+05\n",
       "4.000000    3.830388e+05\n",
       "4.333333    4.427272e+05\n",
       "4.666667    3.953483e+05\n",
       "5.000000    4.155445e+05\n",
       "5.333333    3.284670e+05\n",
       "5.666667    6.773589e+05\n",
       "5.778694    6.475608e+05\n",
       "6.000000    5.521505e+05\n",
       "6.333333    5.172278e+05\n",
       "6.500000    3.584950e+05\n",
       "6.666667    5.271197e+05\n",
       "7.000000    7.924532e+05\n",
       "7.333333    5.114274e+05\n",
       "7.666667    4.158305e+05\n",
       "8.000000    6.000053e+05\n",
       "8.333333    6.004099e+05\n",
       "8.500000    1.918429e+06\n",
       "8.666667    5.781001e+05\n",
       "9.000000    7.264652e+05\n",
       "9.333333    1.295998e+06\n",
       "9.500000    1.083219e+06\n",
       "Name: latestPrice, dtype: float64"
      ]
     },
     "execution_count": 33,
     "metadata": {},
     "output_type": "execute_result"
    }
   ],
   "source": [
    "mean_price_by_school_ratings = a_housing_df.groupby(['avgSchoolRating']).mean()['latestPrice']\n",
    "mean_price_by_school_ratings"
   ]
  },
  {
   "cell_type": "code",
   "execution_count": 36,
   "id": "4fb7f75a",
   "metadata": {},
   "outputs": [
    {
     "data": {
      "text/plain": [
       "Float64Index([ 2.333333333333333, 2.6666666666666665,                3.0,\n",
       "               3.333333333333333,                3.5, 3.6666666666666665,\n",
       "                             4.0,  4.333333333333333,  4.666666666666667,\n",
       "                             5.0,  5.333333333333333,  5.666666666666668,\n",
       "               5.778694090331862,                6.0,  6.333333333333332,\n",
       "                             6.5,  6.666666666666668,                7.0,\n",
       "               7.333333333333332,  7.666666666666668,                8.0,\n",
       "               8.333333333333334,                8.5,  8.666666666666666,\n",
       "                             9.0,  9.333333333333334,                9.5],\n",
       "             dtype='float64', name='avgSchoolRating')"
      ]
     },
     "execution_count": 36,
     "metadata": {},
     "output_type": "execute_result"
    }
   ],
   "source": [
    "mean_price_by_school_ratings.index"
   ]
  },
  {
   "cell_type": "code",
   "execution_count": 38,
   "id": "3c4376cc",
   "metadata": {},
   "outputs": [
    {
     "data": {
      "text/plain": [
       "Text(0.5, 1.0, 'Mean Housing price by School Ratings')"
      ]
     },
     "execution_count": 38,
     "metadata": {},
     "output_type": "execute_result"
    },
    {
     "data": {
      "image/png": "[encoded data removed]",
      "text/plain": [
       "<Figure size 432x288 with 1 Axes>"
      ]
     },
     "metadata": {
      "needs_background": "light"
     },
     "output_type": "display_data"
    }
   ],
   "source": [
    "plt.plot([ 2.33, 2.66, 3.0, 3.33, 3.5, 3.66, 4.0, 4.33, 4.66, 5.0, 5.33, 5.66, 5.78, 6.0, 6.33, 6.5, 6.66, \n",
    "          7.0, 7.33, 7.66, 8.0, 8.33, 8.5, 8.66, 9.0,  9.34, 9.5], mean_price_by_school_ratings)\n",
    "\n",
    "plt.title('Mean Housing price by School Ratings', fontsize=15)"
   ]
  },
  {
   "cell_type": "code",
   "execution_count": 41,
   "id": "380e02b2",
   "metadata": {},
   "outputs": [
    {
     "data": {
      "text/plain": [
       "Float64Index([ 0.0,  1.0,  1.5,  1.7, 1.75,  2.0,  2.5, 2.75,  3.0,  3.5,  4.0,\n",
       "               4.5,  5.0,  5.5,  6.0,  6.5,  7.0,  8.0,  9.0, 10.0, 13.0,\n",
       "              27.0],\n",
       "             dtype='float64', name='numOfBathrooms')"
      ]
     },
     "execution_count": 41,
     "metadata": {},
     "output_type": "execute_result"
    }
   ],
   "source": [
    "mean_price_by_bathrooms = a_housing_df.groupby(['numOfBathrooms']).mean()['latestPrice']\n",
    "mean_price_by_bathrooms.index"
   ]
  },
  {
   "cell_type": "code",
   "execution_count": 42,
   "id": "a8341cff",
   "metadata": {},
   "outputs": [
    {
     "data": {
      "text/plain": [
       "Text(0.5, 1.0, 'Mean Housing price by bathrooms')"
      ]
     },
     "execution_count": 42,
     "metadata": {},
     "output_type": "execute_result"
    },
    {
     "data": {
      "image/png": "[encoded data removed]",
      "text/plain": [
       "<Figure size 432x288 with 1 Axes>"
      ]
     },
     "metadata": {
      "needs_background": "light"
     },
     "output_type": "display_data"
    }
   ],
   "source": [
    "plt.plot([ 0.0, 1.0, 1.5, 1.7, 1.75, 2.0, 2.5, 2.75, 3.0, 3.5, 4.0, \n",
    "          4.5, 5.0, 5.5, 6.0, 6.5, 7.0, 8.0, 9.0, 10.0, 13.0, 27.0], mean_price_by_bathrooms)\n",
    "plt.title('Mean Housing price by bathrooms', fontsize=15)"
   ]
  },
  {
   "cell_type": "code",
   "execution_count": null,
   "id": "633bad23",
   "metadata": {},
   "outputs": [],
   "source": []
  }
 ],
 "metadata": {
  "kernelspec": {
   "display_name": "mlenv",
   "language": "python",
   "name": "mlenv"
  },
  "language_info": {
   "codemirror_mode": {
    "name": "ipython",
    "version": 3
   },
   "file_extension": ".py",
   "mimetype": "text/x-python",
   "name": "python",
   "nbconvert_exporter": "python",
   "pygments_lexer": "ipython3",
   "version": "3.7.10"
  }
 },
 "nbformat": 4,
 "nbformat_minor": 5
}
