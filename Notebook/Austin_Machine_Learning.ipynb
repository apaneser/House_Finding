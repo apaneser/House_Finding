{
 "cells": [
  {
   "cell_type": "code",
   "execution_count": 844,
   "id": "9a312ef3",
   "metadata": {},
   "outputs": [],
   "source": [
    "# add matplotlib inline magic command\n",
    "%matplotlib inline\n",
    "pd.set_option(\"display.max_columns\", None)\n",
    "\n",
    "# import dependencies\n",
    "import pandas as pd\n",
    "import matplotlib.pyplot as plt\n",
    "import psycopg2\n",
    "from collections import Counter\n",
    "from config import db_password"
   ]
  },
  {
   "cell_type": "code",
   "execution_count": 845,
   "id": "f04a9bae",
   "metadata": {},
   "outputs": [],
   "source": [
    "# # create dataframe from file\n",
    "# file_path = '../Resources/austinHousingData.csv'\n",
    "# a_sales_df = pd.read_csv(file_path)\n",
    "\n",
    "# a_sales_df.head()"
   ]
  },
  {
   "cell_type": "code",
   "execution_count": 846,
   "id": "62a2729a",
   "metadata": {},
   "outputs": [
    {
     "data": {
      "text/html": [
       "<div>\n",
       "<style scoped>\n",
       "    .dataframe tbody tr th:only-of-type {\n",
       "        vertical-align: middle;\n",
       "    }\n",
       "\n",
       "    .dataframe tbody tr th {\n",
       "        vertical-align: top;\n",
       "    }\n",
       "\n",
       "    .dataframe thead th {\n",
       "        text-align: right;\n",
       "    }\n",
       "</style>\n",
       "<table border=\"1\" class=\"dataframe\">\n",
       "  <thead>\n",
       "    <tr style=\"text-align: right;\">\n",
       "      <th></th>\n",
       "      <th>zpid</th>\n",
       "      <th>description</th>\n",
       "      <th>propertytaxrate</th>\n",
       "      <th>hasassociation</th>\n",
       "      <th>hascooling</th>\n",
       "      <th>hasgarage</th>\n",
       "      <th>hasheating</th>\n",
       "      <th>hasspa</th>\n",
       "      <th>hasview</th>\n",
       "      <th>hometype</th>\n",
       "      <th>yearbuilt</th>\n",
       "      <th>latestprice</th>\n",
       "      <th>latest_saleyear</th>\n",
       "      <th>lotsizesqft</th>\n",
       "      <th>livingareasqft</th>\n",
       "      <th>numofbathrooms</th>\n",
       "      <th>numofbedrooms</th>\n",
       "      <th>numofstories</th>\n",
       "      <th>zpid</th>\n",
       "      <th>city</th>\n",
       "      <th>streetaddress</th>\n",
       "      <th>zipcode</th>\n",
       "      <th>latitude</th>\n",
       "      <th>longitude</th>\n",
       "      <th>zpid</th>\n",
       "      <th>numofprimaryschools</th>\n",
       "      <th>numofelementaryschools</th>\n",
       "      <th>numofmiddleschools</th>\n",
       "      <th>numofhighschools</th>\n",
       "      <th>avgschooldistance</th>\n",
       "      <th>avgschoolrating</th>\n",
       "      <th>avgschoolsize</th>\n",
       "      <th>medianstudentsperteacher</th>\n",
       "    </tr>\n",
       "  </thead>\n",
       "  <tbody>\n",
       "    <tr>\n",
       "      <th>0</th>\n",
       "      <td>111373431</td>\n",
       "      <td>14424 Lake Victor Dr, Pflugerville, TX 78660 i...</td>\n",
       "      <td>1.98</td>\n",
       "      <td>True</td>\n",
       "      <td>True</td>\n",
       "      <td>True</td>\n",
       "      <td>True</td>\n",
       "      <td>False</td>\n",
       "      <td>False</td>\n",
       "      <td>Single Family</td>\n",
       "      <td>2012</td>\n",
       "      <td>305000.0</td>\n",
       "      <td>2019</td>\n",
       "      <td>6011.0</td>\n",
       "      <td>2601.0</td>\n",
       "      <td>3.0</td>\n",
       "      <td>4.0</td>\n",
       "      <td>2.0</td>\n",
       "      <td>111373431</td>\n",
       "      <td>pflugerville</td>\n",
       "      <td>14424 Lake Victor Dr</td>\n",
       "      <td>78660</td>\n",
       "      <td>30.430632</td>\n",
       "      <td>-97.663078</td>\n",
       "      <td>111373431</td>\n",
       "      <td>1</td>\n",
       "      <td>0</td>\n",
       "      <td>1</td>\n",
       "      <td>1</td>\n",
       "      <td>1.266667</td>\n",
       "      <td>2.666667</td>\n",
       "      <td>1063</td>\n",
       "      <td>14</td>\n",
       "    </tr>\n",
       "    <tr>\n",
       "      <th>1</th>\n",
       "      <td>120900430</td>\n",
       "      <td>Absolutely GORGEOUS 4 Bedroom home with 2 full...</td>\n",
       "      <td>1.98</td>\n",
       "      <td>True</td>\n",
       "      <td>True</td>\n",
       "      <td>True</td>\n",
       "      <td>True</td>\n",
       "      <td>False</td>\n",
       "      <td>False</td>\n",
       "      <td>Single Family</td>\n",
       "      <td>2013</td>\n",
       "      <td>295000.0</td>\n",
       "      <td>2020</td>\n",
       "      <td>6185.0</td>\n",
       "      <td>1768.0</td>\n",
       "      <td>2.0</td>\n",
       "      <td>4.0</td>\n",
       "      <td>1.0</td>\n",
       "      <td>120900430</td>\n",
       "      <td>pflugerville</td>\n",
       "      <td>1104 Strickling Dr</td>\n",
       "      <td>78660</td>\n",
       "      <td>30.432673</td>\n",
       "      <td>-97.661697</td>\n",
       "      <td>120900430</td>\n",
       "      <td>1</td>\n",
       "      <td>0</td>\n",
       "      <td>1</td>\n",
       "      <td>1</td>\n",
       "      <td>1.400000</td>\n",
       "      <td>2.666667</td>\n",
       "      <td>1063</td>\n",
       "      <td>14</td>\n",
       "    </tr>\n",
       "    <tr>\n",
       "      <th>2</th>\n",
       "      <td>2084491383</td>\n",
       "      <td>Under construction - estimated completion in A...</td>\n",
       "      <td>1.98</td>\n",
       "      <td>True</td>\n",
       "      <td>True</td>\n",
       "      <td>False</td>\n",
       "      <td>True</td>\n",
       "      <td>False</td>\n",
       "      <td>False</td>\n",
       "      <td>Single Family</td>\n",
       "      <td>2018</td>\n",
       "      <td>256125.0</td>\n",
       "      <td>2019</td>\n",
       "      <td>7840.0</td>\n",
       "      <td>1478.0</td>\n",
       "      <td>2.0</td>\n",
       "      <td>3.0</td>\n",
       "      <td>1.0</td>\n",
       "      <td>2084491383</td>\n",
       "      <td>pflugerville</td>\n",
       "      <td>1408 Fort Dessau Rd</td>\n",
       "      <td>78660</td>\n",
       "      <td>30.409748</td>\n",
       "      <td>-97.639771</td>\n",
       "      <td>2084491383</td>\n",
       "      <td>0</td>\n",
       "      <td>2</td>\n",
       "      <td>1</td>\n",
       "      <td>1</td>\n",
       "      <td>1.200000</td>\n",
       "      <td>3.000000</td>\n",
       "      <td>1108</td>\n",
       "      <td>14</td>\n",
       "    </tr>\n",
       "    <tr>\n",
       "      <th>3</th>\n",
       "      <td>120901374</td>\n",
       "      <td>Absolutely darling one story home in charming ...</td>\n",
       "      <td>1.98</td>\n",
       "      <td>True</td>\n",
       "      <td>True</td>\n",
       "      <td>True</td>\n",
       "      <td>True</td>\n",
       "      <td>False</td>\n",
       "      <td>False</td>\n",
       "      <td>Single Family</td>\n",
       "      <td>2013</td>\n",
       "      <td>240000.0</td>\n",
       "      <td>2018</td>\n",
       "      <td>6098.0</td>\n",
       "      <td>1678.0</td>\n",
       "      <td>2.0</td>\n",
       "      <td>3.0</td>\n",
       "      <td>1.0</td>\n",
       "      <td>120901374</td>\n",
       "      <td>pflugerville</td>\n",
       "      <td>1025 Strickling Dr</td>\n",
       "      <td>78660</td>\n",
       "      <td>30.432112</td>\n",
       "      <td>-97.661659</td>\n",
       "      <td>120901374</td>\n",
       "      <td>1</td>\n",
       "      <td>0</td>\n",
       "      <td>1</td>\n",
       "      <td>1</td>\n",
       "      <td>1.400000</td>\n",
       "      <td>2.666667</td>\n",
       "      <td>1063</td>\n",
       "      <td>14</td>\n",
       "    </tr>\n",
       "    <tr>\n",
       "      <th>4</th>\n",
       "      <td>60134862</td>\n",
       "      <td>Brimming with appeal &amp; warm livability! Sleek ...</td>\n",
       "      <td>1.98</td>\n",
       "      <td>True</td>\n",
       "      <td>True</td>\n",
       "      <td>False</td>\n",
       "      <td>True</td>\n",
       "      <td>False</td>\n",
       "      <td>False</td>\n",
       "      <td>Single Family</td>\n",
       "      <td>2002</td>\n",
       "      <td>239900.0</td>\n",
       "      <td>2018</td>\n",
       "      <td>6708.0</td>\n",
       "      <td>2132.0</td>\n",
       "      <td>3.0</td>\n",
       "      <td>3.0</td>\n",
       "      <td>2.0</td>\n",
       "      <td>60134862</td>\n",
       "      <td>pflugerville</td>\n",
       "      <td>15005 Donna Jane Loop</td>\n",
       "      <td>78660</td>\n",
       "      <td>30.437368</td>\n",
       "      <td>-97.656860</td>\n",
       "      <td>60134862</td>\n",
       "      <td>1</td>\n",
       "      <td>0</td>\n",
       "      <td>1</td>\n",
       "      <td>1</td>\n",
       "      <td>1.133333</td>\n",
       "      <td>4.000000</td>\n",
       "      <td>1223</td>\n",
       "      <td>14</td>\n",
       "    </tr>\n",
       "  </tbody>\n",
       "</table>\n",
       "</div>"
      ],
      "text/plain": [
       "         zpid                                        description  \\\n",
       "0   111373431  14424 Lake Victor Dr, Pflugerville, TX 78660 i...   \n",
       "1   120900430  Absolutely GORGEOUS 4 Bedroom home with 2 full...   \n",
       "2  2084491383  Under construction - estimated completion in A...   \n",
       "3   120901374  Absolutely darling one story home in charming ...   \n",
       "4    60134862  Brimming with appeal & warm livability! Sleek ...   \n",
       "\n",
       "   propertytaxrate hasassociation hascooling hasgarage hasheating hasspa  \\\n",
       "0             1.98           True       True      True       True  False   \n",
       "1             1.98           True       True      True       True  False   \n",
       "2             1.98           True       True     False       True  False   \n",
       "3             1.98           True       True      True       True  False   \n",
       "4             1.98           True       True     False       True  False   \n",
       "\n",
       "  hasview       hometype  yearbuilt  latestprice  latest_saleyear  \\\n",
       "0   False  Single Family       2012     305000.0             2019   \n",
       "1   False  Single Family       2013     295000.0             2020   \n",
       "2   False  Single Family       2018     256125.0             2019   \n",
       "3   False  Single Family       2013     240000.0             2018   \n",
       "4   False  Single Family       2002     239900.0             2018   \n",
       "\n",
       "   lotsizesqft  livingareasqft  numofbathrooms  numofbedrooms  numofstories  \\\n",
       "0       6011.0          2601.0             3.0            4.0           2.0   \n",
       "1       6185.0          1768.0             2.0            4.0           1.0   \n",
       "2       7840.0          1478.0             2.0            3.0           1.0   \n",
       "3       6098.0          1678.0             2.0            3.0           1.0   \n",
       "4       6708.0          2132.0             3.0            3.0           2.0   \n",
       "\n",
       "         zpid          city          streetaddress  zipcode   latitude  \\\n",
       "0   111373431  pflugerville   14424 Lake Victor Dr    78660  30.430632   \n",
       "1   120900430  pflugerville     1104 Strickling Dr    78660  30.432673   \n",
       "2  2084491383  pflugerville    1408 Fort Dessau Rd    78660  30.409748   \n",
       "3   120901374  pflugerville     1025 Strickling Dr    78660  30.432112   \n",
       "4    60134862  pflugerville  15005 Donna Jane Loop    78660  30.437368   \n",
       "\n",
       "   longitude        zpid  numofprimaryschools  numofelementaryschools  \\\n",
       "0 -97.663078   111373431                    1                       0   \n",
       "1 -97.661697   120900430                    1                       0   \n",
       "2 -97.639771  2084491383                    0                       2   \n",
       "3 -97.661659   120901374                    1                       0   \n",
       "4 -97.656860    60134862                    1                       0   \n",
       "\n",
       "   numofmiddleschools  numofhighschools  avgschooldistance  avgschoolrating  \\\n",
       "0                   1                 1           1.266667         2.666667   \n",
       "1                   1                 1           1.400000         2.666667   \n",
       "2                   1                 1           1.200000         3.000000   \n",
       "3                   1                 1           1.400000         2.666667   \n",
       "4                   1                 1           1.133333         4.000000   \n",
       "\n",
       "   avgschoolsize  medianstudentsperteacher  \n",
       "0           1063                        14  \n",
       "1           1063                        14  \n",
       "2           1108                        14  \n",
       "3           1063                        14  \n",
       "4           1223                        14  "
      ]
     },
     "execution_count": 846,
     "metadata": {},
     "output_type": "execute_result"
    }
   ],
   "source": [
    "# import from database\n",
    "connection = psycopg2.connect(user=\"postgres\", password=db_password, host=\"localhost\", port=\"5432\", database=\"AustinHomes\")\n",
    "query = \"SELECT * FROM house_info INNER JOIN house_location ON house_info.zpid = house_location.zpid INNER JOIN house_school ON house_location.zpid = house_school.zpid\"\n",
    "a_sales_df = pd.read_sql(query, connection)\n",
    "a_sales_df.head()"
   ]
  },
  {
   "cell_type": "code",
   "execution_count": 847,
   "id": "3842d65a",
   "metadata": {},
   "outputs": [
    {
     "data": {
      "text/plain": [
       "zpid                        15171\n",
       "description                 15171\n",
       "propertytaxrate             15171\n",
       "hasassociation              15171\n",
       "hascooling                  15171\n",
       "hasgarage                   15171\n",
       "hasheating                  15171\n",
       "hasspa                      15171\n",
       "hasview                     15171\n",
       "hometype                    15171\n",
       "yearbuilt                   15171\n",
       "latestprice                 15171\n",
       "latest_saleyear             15171\n",
       "lotsizesqft                 15171\n",
       "livingareasqft              15171\n",
       "numofbathrooms              15171\n",
       "numofbedrooms               15171\n",
       "numofstories                15171\n",
       "zpid                        15171\n",
       "city                        15171\n",
       "streetaddress               15171\n",
       "zipcode                     15171\n",
       "latitude                    15171\n",
       "longitude                   15171\n",
       "zpid                        15171\n",
       "numofprimaryschools         15171\n",
       "numofelementaryschools      15171\n",
       "numofmiddleschools          15171\n",
       "numofhighschools            15171\n",
       "avgschooldistance           15171\n",
       "avgschoolrating             15171\n",
       "avgschoolsize               15171\n",
       "medianstudentsperteacher    15171\n",
       "dtype: int64"
      ]
     },
     "execution_count": 847,
     "metadata": {},
     "output_type": "execute_result"
    }
   ],
   "source": [
    "# get list of columns and rowcount\n",
    "a_sales_df.count()"
   ]
  },
  {
   "cell_type": "code",
   "execution_count": 848,
   "id": "cca048e0",
   "metadata": {},
   "outputs": [],
   "source": [
    "# create copy for use with the machine learning model\n",
    "ml_data = a_sales_df.loc[a_sales_df['city'] == \"austin\"].copy()"
   ]
  },
  {
   "cell_type": "code",
   "execution_count": 849,
   "id": "e59dc5dd",
   "metadata": {},
   "outputs": [],
   "source": [
    "# use only the columns that will be used in the model\n",
    "ml_data = ml_data[['hometype', 'hasgarage', 'yearbuilt', 'latestprice', 'zipcode', \n",
    "                   'latest_saleyear', 'lotsizesqft', 'livingareasqft', 'numofbathrooms', 'numofbedrooms', 'numofstories', 'avgschooldistance']]"
   ]
  },
  {
   "cell_type": "code",
   "execution_count": 850,
   "id": "62d27459",
   "metadata": {},
   "outputs": [],
   "source": [
    "ml_data = ml_data.loc[ml_data['numofbedrooms'] != 0]\n",
    "ml_data = ml_data.loc[ml_data['numofbedrooms'] < 11]\n",
    "ml_data = ml_data.loc[ml_data['numofbathrooms'] < 11]\n",
    "ml_data = ml_data.loc[ml_data['hometype'] != 'Other']\n",
    "ml_data = ml_data.loc[ml_data['hometype'] != 'Vacant Land']\n",
    "ml_data = ml_data.loc[ml_data['lotsizesqft'] < (ml_data['lotsizesqft'].max()*.001)]"
   ]
  },
  {
   "cell_type": "code",
   "execution_count": 851,
   "id": "06c2e872",
   "metadata": {},
   "outputs": [],
   "source": [
    "from sklearn.model_selection import train_test_split\n",
    "from sklearn.preprocessing import LabelEncoder\n",
    "from sklearn.ensemble import GradientBoostingRegressor"
   ]
  },
  {
   "cell_type": "code",
   "execution_count": 852,
   "id": "12e37f0e",
   "metadata": {},
   "outputs": [],
   "source": [
    "X = ml_data.drop(\"latestprice\", axis=1)\n",
    "\n",
    "y = ml_data['latestprice']"
   ]
  },
  {
   "cell_type": "code",
   "execution_count": 853,
   "id": "317f99f6",
   "metadata": {},
   "outputs": [
    {
     "data": {
      "text/plain": [
       "array(['Single Family', 'Residential', 'Mobile / Manufactured',\n",
       "       'Townhouse', 'Condo', 'Multiple Occupancy', 'Apartment',\n",
       "       'MultiFamily'], dtype=object)"
      ]
     },
     "execution_count": 853,
     "metadata": {},
     "output_type": "execute_result"
    }
   ],
   "source": [
    "X['hometype'].unique()"
   ]
  },
  {
   "cell_type": "code",
   "execution_count": 854,
   "id": "6422481a",
   "metadata": {},
   "outputs": [
    {
     "data": {
      "text/plain": [
       "hometype             14892\n",
       "hasgarage            14892\n",
       "yearbuilt            14892\n",
       "latestprice          14892\n",
       "zipcode              14892\n",
       "latest_saleyear      14892\n",
       "lotsizesqft          14892\n",
       "livingareasqft       14892\n",
       "numofbathrooms       14892\n",
       "numofbedrooms        14892\n",
       "numofstories         14892\n",
       "avgschooldistance    14892\n",
       "dtype: int64"
      ]
     },
     "execution_count": 854,
     "metadata": {},
     "output_type": "execute_result"
    }
   ],
   "source": [
    "ml_data.count()"
   ]
  },
  {
   "cell_type": "code",
   "execution_count": 855,
   "id": "c9dd2c97",
   "metadata": {},
   "outputs": [],
   "source": [
    "home_type = {\n",
    "    'Single Family': 0, \n",
    "    'Residential': 1,\n",
    "    'Mobile / Manufactured': 2,\n",
    "    'Townhouse': 3,\n",
    "    'Condo': 4,\n",
    "    'Vacant Land': 5,\n",
    "    'Multiple Occupancy': 6,\n",
    "    'Other': 8,\n",
    "    'Apartment': 9,\n",
    "    'MultiFamily': 10\n",
    "}\n",
    "\n",
    "X['hometype'] = X['hometype'].apply(lambda x: home_type[x])"
   ]
  },
  {
   "cell_type": "code",
   "execution_count": 856,
   "id": "f074c60a",
   "metadata": {},
   "outputs": [],
   "source": [
    "le = LabelEncoder()"
   ]
  },
  {
   "cell_type": "code",
   "execution_count": null,
   "id": "61cd2db2",
   "metadata": {},
   "outputs": [],
   "source": []
  },
  {
   "cell_type": "code",
   "execution_count": 857,
   "id": "15c0eb2b",
   "metadata": {},
   "outputs": [],
   "source": [
    "hasgarage = {\n",
    "    'False': 0, \n",
    "    'True': 1\n",
    "}\n",
    "\n",
    "X['hasgarage'] = X['hasgarage'].apply(lambda x: hasgarage[x])"
   ]
  },
  {
   "cell_type": "code",
   "execution_count": 858,
   "id": "202c3ad3",
   "metadata": {},
   "outputs": [],
   "source": [
    "X_train, X_test, y_train, y_test = train_test_split(X, y, random_state=2)"
   ]
  },
  {
   "cell_type": "code",
   "execution_count": 859,
   "id": "a2c75ed8",
   "metadata": {},
   "outputs": [],
   "source": [
    "clf = GradientBoostingRegressor(n_estimators=400, max_depth=5, min_samples_split=2, learning_rate=.1, loss='ls')"
   ]
  },
  {
   "cell_type": "code",
   "execution_count": 860,
   "id": "cf3b7d57",
   "metadata": {},
   "outputs": [
    {
     "data": {
      "text/plain": [
       "GradientBoostingRegressor(max_depth=5, n_estimators=400)"
      ]
     },
     "execution_count": 860,
     "metadata": {},
     "output_type": "execute_result"
    }
   ],
   "source": [
    "clf.fit(X_train, y_train)"
   ]
  },
  {
   "cell_type": "code",
   "execution_count": 861,
   "id": "750dc2b0",
   "metadata": {},
   "outputs": [
    {
     "data": {
      "text/plain": [
       "0.7210933525939193"
      ]
     },
     "execution_count": 861,
     "metadata": {},
     "output_type": "execute_result"
    }
   ],
   "source": [
    "clf.score(X_test, y_test)"
   ]
  },
  {
   "cell_type": "code",
   "execution_count": 862,
   "id": "15ef4360",
   "metadata": {},
   "outputs": [
    {
     "data": {
      "text/html": [
       "<div>\n",
       "<style scoped>\n",
       "    .dataframe tbody tr th:only-of-type {\n",
       "        vertical-align: middle;\n",
       "    }\n",
       "\n",
       "    .dataframe tbody tr th {\n",
       "        vertical-align: top;\n",
       "    }\n",
       "\n",
       "    .dataframe thead th {\n",
       "        text-align: right;\n",
       "    }\n",
       "</style>\n",
       "<table border=\"1\" class=\"dataframe\">\n",
       "  <thead>\n",
       "    <tr style=\"text-align: right;\">\n",
       "      <th></th>\n",
       "      <th>zpid</th>\n",
       "      <th>description</th>\n",
       "      <th>propertytaxrate</th>\n",
       "      <th>hasassociation</th>\n",
       "      <th>hascooling</th>\n",
       "      <th>hasgarage</th>\n",
       "      <th>hasheating</th>\n",
       "      <th>hasspa</th>\n",
       "      <th>hasview</th>\n",
       "      <th>hometype</th>\n",
       "      <th>yearbuilt</th>\n",
       "      <th>latestprice</th>\n",
       "      <th>latest_saleyear</th>\n",
       "      <th>lotsizesqft</th>\n",
       "      <th>livingareasqft</th>\n",
       "      <th>numofbathrooms</th>\n",
       "      <th>numofbedrooms</th>\n",
       "      <th>numofstories</th>\n",
       "      <th>zpid</th>\n",
       "      <th>city</th>\n",
       "      <th>streetaddress</th>\n",
       "      <th>zipcode</th>\n",
       "      <th>latitude</th>\n",
       "      <th>longitude</th>\n",
       "      <th>zpid</th>\n",
       "      <th>numofprimaryschools</th>\n",
       "      <th>numofelementaryschools</th>\n",
       "      <th>numofmiddleschools</th>\n",
       "      <th>numofhighschools</th>\n",
       "      <th>avgschooldistance</th>\n",
       "      <th>avgschoolrating</th>\n",
       "      <th>avgschoolsize</th>\n",
       "      <th>medianstudentsperteacher</th>\n",
       "    </tr>\n",
       "  </thead>\n",
       "  <tbody>\n",
       "    <tr>\n",
       "      <th>0</th>\n",
       "      <td>111373431</td>\n",
       "      <td>14424 Lake Victor Dr, Pflugerville, TX 78660 i...</td>\n",
       "      <td>1.98</td>\n",
       "      <td>True</td>\n",
       "      <td>True</td>\n",
       "      <td>True</td>\n",
       "      <td>True</td>\n",
       "      <td>False</td>\n",
       "      <td>False</td>\n",
       "      <td>Single Family</td>\n",
       "      <td>2012</td>\n",
       "      <td>305000.0</td>\n",
       "      <td>2019</td>\n",
       "      <td>6011.0</td>\n",
       "      <td>2601.0</td>\n",
       "      <td>3.0</td>\n",
       "      <td>4.0</td>\n",
       "      <td>2.0</td>\n",
       "      <td>111373431</td>\n",
       "      <td>pflugerville</td>\n",
       "      <td>14424 Lake Victor Dr</td>\n",
       "      <td>78660</td>\n",
       "      <td>30.430632</td>\n",
       "      <td>-97.663078</td>\n",
       "      <td>111373431</td>\n",
       "      <td>1</td>\n",
       "      <td>0</td>\n",
       "      <td>1</td>\n",
       "      <td>1</td>\n",
       "      <td>1.266667</td>\n",
       "      <td>2.666667</td>\n",
       "      <td>1063</td>\n",
       "      <td>14</td>\n",
       "    </tr>\n",
       "    <tr>\n",
       "      <th>1</th>\n",
       "      <td>120900430</td>\n",
       "      <td>Absolutely GORGEOUS 4 Bedroom home with 2 full...</td>\n",
       "      <td>1.98</td>\n",
       "      <td>True</td>\n",
       "      <td>True</td>\n",
       "      <td>True</td>\n",
       "      <td>True</td>\n",
       "      <td>False</td>\n",
       "      <td>False</td>\n",
       "      <td>Single Family</td>\n",
       "      <td>2013</td>\n",
       "      <td>295000.0</td>\n",
       "      <td>2020</td>\n",
       "      <td>6185.0</td>\n",
       "      <td>1768.0</td>\n",
       "      <td>2.0</td>\n",
       "      <td>4.0</td>\n",
       "      <td>1.0</td>\n",
       "      <td>120900430</td>\n",
       "      <td>pflugerville</td>\n",
       "      <td>1104 Strickling Dr</td>\n",
       "      <td>78660</td>\n",
       "      <td>30.432673</td>\n",
       "      <td>-97.661697</td>\n",
       "      <td>120900430</td>\n",
       "      <td>1</td>\n",
       "      <td>0</td>\n",
       "      <td>1</td>\n",
       "      <td>1</td>\n",
       "      <td>1.400000</td>\n",
       "      <td>2.666667</td>\n",
       "      <td>1063</td>\n",
       "      <td>14</td>\n",
       "    </tr>\n",
       "    <tr>\n",
       "      <th>2</th>\n",
       "      <td>2084491383</td>\n",
       "      <td>Under construction - estimated completion in A...</td>\n",
       "      <td>1.98</td>\n",
       "      <td>True</td>\n",
       "      <td>True</td>\n",
       "      <td>False</td>\n",
       "      <td>True</td>\n",
       "      <td>False</td>\n",
       "      <td>False</td>\n",
       "      <td>Single Family</td>\n",
       "      <td>2018</td>\n",
       "      <td>256125.0</td>\n",
       "      <td>2019</td>\n",
       "      <td>7840.0</td>\n",
       "      <td>1478.0</td>\n",
       "      <td>2.0</td>\n",
       "      <td>3.0</td>\n",
       "      <td>1.0</td>\n",
       "      <td>2084491383</td>\n",
       "      <td>pflugerville</td>\n",
       "      <td>1408 Fort Dessau Rd</td>\n",
       "      <td>78660</td>\n",
       "      <td>30.409748</td>\n",
       "      <td>-97.639771</td>\n",
       "      <td>2084491383</td>\n",
       "      <td>0</td>\n",
       "      <td>2</td>\n",
       "      <td>1</td>\n",
       "      <td>1</td>\n",
       "      <td>1.200000</td>\n",
       "      <td>3.000000</td>\n",
       "      <td>1108</td>\n",
       "      <td>14</td>\n",
       "    </tr>\n",
       "    <tr>\n",
       "      <th>3</th>\n",
       "      <td>120901374</td>\n",
       "      <td>Absolutely darling one story home in charming ...</td>\n",
       "      <td>1.98</td>\n",
       "      <td>True</td>\n",
       "      <td>True</td>\n",
       "      <td>True</td>\n",
       "      <td>True</td>\n",
       "      <td>False</td>\n",
       "      <td>False</td>\n",
       "      <td>Single Family</td>\n",
       "      <td>2013</td>\n",
       "      <td>240000.0</td>\n",
       "      <td>2018</td>\n",
       "      <td>6098.0</td>\n",
       "      <td>1678.0</td>\n",
       "      <td>2.0</td>\n",
       "      <td>3.0</td>\n",
       "      <td>1.0</td>\n",
       "      <td>120901374</td>\n",
       "      <td>pflugerville</td>\n",
       "      <td>1025 Strickling Dr</td>\n",
       "      <td>78660</td>\n",
       "      <td>30.432112</td>\n",
       "      <td>-97.661659</td>\n",
       "      <td>120901374</td>\n",
       "      <td>1</td>\n",
       "      <td>0</td>\n",
       "      <td>1</td>\n",
       "      <td>1</td>\n",
       "      <td>1.400000</td>\n",
       "      <td>2.666667</td>\n",
       "      <td>1063</td>\n",
       "      <td>14</td>\n",
       "    </tr>\n",
       "    <tr>\n",
       "      <th>4</th>\n",
       "      <td>60134862</td>\n",
       "      <td>Brimming with appeal &amp; warm livability! Sleek ...</td>\n",
       "      <td>1.98</td>\n",
       "      <td>True</td>\n",
       "      <td>True</td>\n",
       "      <td>False</td>\n",
       "      <td>True</td>\n",
       "      <td>False</td>\n",
       "      <td>False</td>\n",
       "      <td>Single Family</td>\n",
       "      <td>2002</td>\n",
       "      <td>239900.0</td>\n",
       "      <td>2018</td>\n",
       "      <td>6708.0</td>\n",
       "      <td>2132.0</td>\n",
       "      <td>3.0</td>\n",
       "      <td>3.0</td>\n",
       "      <td>2.0</td>\n",
       "      <td>60134862</td>\n",
       "      <td>pflugerville</td>\n",
       "      <td>15005 Donna Jane Loop</td>\n",
       "      <td>78660</td>\n",
       "      <td>30.437368</td>\n",
       "      <td>-97.656860</td>\n",
       "      <td>60134862</td>\n",
       "      <td>1</td>\n",
       "      <td>0</td>\n",
       "      <td>1</td>\n",
       "      <td>1</td>\n",
       "      <td>1.133333</td>\n",
       "      <td>4.000000</td>\n",
       "      <td>1223</td>\n",
       "      <td>14</td>\n",
       "    </tr>\n",
       "  </tbody>\n",
       "</table>\n",
       "</div>"
      ],
      "text/plain": [
       "         zpid                                        description  \\\n",
       "0   111373431  14424 Lake Victor Dr, Pflugerville, TX 78660 i...   \n",
       "1   120900430  Absolutely GORGEOUS 4 Bedroom home with 2 full...   \n",
       "2  2084491383  Under construction - estimated completion in A...   \n",
       "3   120901374  Absolutely darling one story home in charming ...   \n",
       "4    60134862  Brimming with appeal & warm livability! Sleek ...   \n",
       "\n",
       "   propertytaxrate hasassociation hascooling hasgarage hasheating hasspa  \\\n",
       "0             1.98           True       True      True       True  False   \n",
       "1             1.98           True       True      True       True  False   \n",
       "2             1.98           True       True     False       True  False   \n",
       "3             1.98           True       True      True       True  False   \n",
       "4             1.98           True       True     False       True  False   \n",
       "\n",
       "  hasview       hometype  yearbuilt  latestprice  latest_saleyear  \\\n",
       "0   False  Single Family       2012     305000.0             2019   \n",
       "1   False  Single Family       2013     295000.0             2020   \n",
       "2   False  Single Family       2018     256125.0             2019   \n",
       "3   False  Single Family       2013     240000.0             2018   \n",
       "4   False  Single Family       2002     239900.0             2018   \n",
       "\n",
       "   lotsizesqft  livingareasqft  numofbathrooms  numofbedrooms  numofstories  \\\n",
       "0       6011.0          2601.0             3.0            4.0           2.0   \n",
       "1       6185.0          1768.0             2.0            4.0           1.0   \n",
       "2       7840.0          1478.0             2.0            3.0           1.0   \n",
       "3       6098.0          1678.0             2.0            3.0           1.0   \n",
       "4       6708.0          2132.0             3.0            3.0           2.0   \n",
       "\n",
       "         zpid          city          streetaddress  zipcode   latitude  \\\n",
       "0   111373431  pflugerville   14424 Lake Victor Dr    78660  30.430632   \n",
       "1   120900430  pflugerville     1104 Strickling Dr    78660  30.432673   \n",
       "2  2084491383  pflugerville    1408 Fort Dessau Rd    78660  30.409748   \n",
       "3   120901374  pflugerville     1025 Strickling Dr    78660  30.432112   \n",
       "4    60134862  pflugerville  15005 Donna Jane Loop    78660  30.437368   \n",
       "\n",
       "   longitude        zpid  numofprimaryschools  numofelementaryschools  \\\n",
       "0 -97.663078   111373431                    1                       0   \n",
       "1 -97.661697   120900430                    1                       0   \n",
       "2 -97.639771  2084491383                    0                       2   \n",
       "3 -97.661659   120901374                    1                       0   \n",
       "4 -97.656860    60134862                    1                       0   \n",
       "\n",
       "   numofmiddleschools  numofhighschools  avgschooldistance  avgschoolrating  \\\n",
       "0                   1                 1           1.266667         2.666667   \n",
       "1                   1                 1           1.400000         2.666667   \n",
       "2                   1                 1           1.200000         3.000000   \n",
       "3                   1                 1           1.400000         2.666667   \n",
       "4                   1                 1           1.133333         4.000000   \n",
       "\n",
       "   avgschoolsize  medianstudentsperteacher  \n",
       "0           1063                        14  \n",
       "1           1063                        14  \n",
       "2           1108                        14  \n",
       "3           1063                        14  \n",
       "4           1223                        14  "
      ]
     },
     "execution_count": 862,
     "metadata": {},
     "output_type": "execute_result"
    }
   ],
   "source": [
    "a_sales_df.head()"
   ]
  },
  {
   "cell_type": "code",
   "execution_count": 865,
   "id": "49908f10",
   "metadata": {},
   "outputs": [
    {
     "data": {
      "text/html": [
       "<div>\n",
       "<style scoped>\n",
       "    .dataframe tbody tr th:only-of-type {\n",
       "        vertical-align: middle;\n",
       "    }\n",
       "\n",
       "    .dataframe tbody tr th {\n",
       "        vertical-align: top;\n",
       "    }\n",
       "\n",
       "    .dataframe thead th {\n",
       "        text-align: right;\n",
       "    }\n",
       "</style>\n",
       "<table border=\"1\" class=\"dataframe\">\n",
       "  <thead>\n",
       "    <tr style=\"text-align: right;\">\n",
       "      <th></th>\n",
       "      <th>hometype</th>\n",
       "      <th>hasgarage</th>\n",
       "      <th>yearbuilt</th>\n",
       "      <th>zipcode</th>\n",
       "      <th>latest_saleyear</th>\n",
       "      <th>lotsizesqft</th>\n",
       "      <th>livingareasqft</th>\n",
       "      <th>numofbathrooms</th>\n",
       "      <th>numofbedrooms</th>\n",
       "      <th>numofstories</th>\n",
       "      <th>avgschooldistance</th>\n",
       "    </tr>\n",
       "  </thead>\n",
       "  <tbody>\n",
       "    <tr>\n",
       "      <th>14</th>\n",
       "      <td>0</td>\n",
       "      <td>1</td>\n",
       "      <td>1980</td>\n",
       "      <td>78724</td>\n",
       "      <td>2019</td>\n",
       "      <td>5575.0</td>\n",
       "      <td>939.0</td>\n",
       "      <td>1.0</td>\n",
       "      <td>2.0</td>\n",
       "      <td>1.0</td>\n",
       "      <td>3.233333</td>\n",
       "    </tr>\n",
       "    <tr>\n",
       "      <th>18</th>\n",
       "      <td>0</td>\n",
       "      <td>0</td>\n",
       "      <td>2014</td>\n",
       "      <td>78717</td>\n",
       "      <td>2018</td>\n",
       "      <td>10672.0</td>\n",
       "      <td>4564.0</td>\n",
       "      <td>6.0</td>\n",
       "      <td>5.0</td>\n",
       "      <td>2.0</td>\n",
       "      <td>3.266667</td>\n",
       "    </tr>\n",
       "    <tr>\n",
       "      <th>19</th>\n",
       "      <td>0</td>\n",
       "      <td>1</td>\n",
       "      <td>2007</td>\n",
       "      <td>78717</td>\n",
       "      <td>2018</td>\n",
       "      <td>9060.0</td>\n",
       "      <td>3233.0</td>\n",
       "      <td>4.0</td>\n",
       "      <td>5.0</td>\n",
       "      <td>2.0</td>\n",
       "      <td>1.933333</td>\n",
       "    </tr>\n",
       "    <tr>\n",
       "      <th>20</th>\n",
       "      <td>0</td>\n",
       "      <td>1</td>\n",
       "      <td>2006</td>\n",
       "      <td>78724</td>\n",
       "      <td>2020</td>\n",
       "      <td>7448.0</td>\n",
       "      <td>1511.0</td>\n",
       "      <td>2.0</td>\n",
       "      <td>3.0</td>\n",
       "      <td>1.0</td>\n",
       "      <td>2.433333</td>\n",
       "    </tr>\n",
       "    <tr>\n",
       "      <th>21</th>\n",
       "      <td>0</td>\n",
       "      <td>0</td>\n",
       "      <td>2008</td>\n",
       "      <td>78717</td>\n",
       "      <td>2020</td>\n",
       "      <td>7666.0</td>\n",
       "      <td>2228.0</td>\n",
       "      <td>2.0</td>\n",
       "      <td>3.0</td>\n",
       "      <td>1.0</td>\n",
       "      <td>1.900000</td>\n",
       "    </tr>\n",
       "  </tbody>\n",
       "</table>\n",
       "</div>"
      ],
      "text/plain": [
       "    hometype  hasgarage  yearbuilt  zipcode  latest_saleyear  lotsizesqft  \\\n",
       "14         0          1       1980    78724             2019       5575.0   \n",
       "18         0          0       2014    78717             2018      10672.0   \n",
       "19         0          1       2007    78717             2018       9060.0   \n",
       "20         0          1       2006    78724             2020       7448.0   \n",
       "21         0          0       2008    78717             2020       7666.0   \n",
       "\n",
       "    livingareasqft  numofbathrooms  numofbedrooms  numofstories  \\\n",
       "14           939.0             1.0            2.0           1.0   \n",
       "18          4564.0             6.0            5.0           2.0   \n",
       "19          3233.0             4.0            5.0           2.0   \n",
       "20          1511.0             2.0            3.0           1.0   \n",
       "21          2228.0             2.0            3.0           1.0   \n",
       "\n",
       "    avgschooldistance  \n",
       "14           3.233333  \n",
       "18           3.266667  \n",
       "19           1.933333  \n",
       "20           2.433333  \n",
       "21           1.900000  "
      ]
     },
     "execution_count": 865,
     "metadata": {},
     "output_type": "execute_result"
    }
   ],
   "source": [
    "X.head()"
   ]
  },
  {
   "cell_type": "code",
   "execution_count": 796,
   "id": "7e161a34",
   "metadata": {},
   "outputs": [
    {
     "data": {
      "text/plain": [
       "array(['True', 'False'], dtype=object)"
      ]
     },
     "execution_count": 796,
     "metadata": {},
     "output_type": "execute_result"
    }
   ],
   "source": [
    "a_sales_df['hasassociation'].unique()"
   ]
  },
  {
   "cell_type": "code",
   "execution_count": 797,
   "id": "9ba5e486",
   "metadata": {},
   "outputs": [
    {
     "data": {
      "text/plain": [
       "latest_saleyear\n",
       "2018    484474.605878\n",
       "2019    497312.701256\n",
       "2020    548251.522860\n",
       "2021    641725.000000\n",
       "Name: latestprice, dtype: float64"
      ]
     },
     "execution_count": 797,
     "metadata": {},
     "output_type": "execute_result"
    }
   ],
   "source": [
    "mean_price_by_year = ml_data.groupby(['latest_saleyear']).mean()['latestprice']\n",
    "mean_price_by_year"
   ]
  },
  {
   "cell_type": "code",
   "execution_count": 798,
   "id": "4a60545b",
   "metadata": {},
   "outputs": [
    {
     "data": {
      "text/plain": [
       "Text(0.5, 1.0, 'Housing price by year')"
      ]
     },
     "execution_count": 798,
     "metadata": {},
     "output_type": "execute_result"
    },
    {
     "data": {
      "image/png": "[encoded data removed]",
      "text/plain": [
       "<Figure size 432x288 with 1 Axes>"
      ]
     },
     "metadata": {
      "needs_background": "light"
     },
     "output_type": "display_data"
    }
   ],
   "source": [
    "plt.bar(['2018', '2019', '2020', '2021'], mean_price_by_year)\n",
    "plt.title('Housing price by year', fontsize=20)"
   ]
  },
  {
   "cell_type": "code",
   "execution_count": 799,
   "id": "72b52082",
   "metadata": {},
   "outputs": [
    {
     "data": {
      "text/plain": [
       "Text(0.5, 1.0, 'Housing price by lot size')"
      ]
     },
     "execution_count": 799,
     "metadata": {},
     "output_type": "execute_result"
    },
    {
     "data": {
      "image/png": "[encoded data removed]",
      "text/plain": [
       "<Figure size 432x288 with 1 Axes>"
      ]
     },
     "metadata": {
      "needs_background": "light"
     },
     "output_type": "display_data"
    }
   ],
   "source": [
    "scatter_zoom = ml_data.loc[ml_data['lotsizesqft'] < ml_data['lotsizesqft'].max()*.1]\n",
    "plt.scatter(scatter_zoom['latestprice'], scatter_zoom['lotsizesqft'])\n",
    "plt.title('Housing price by lot size', fontsize=20)"
   ]
  },
  {
   "cell_type": "code",
   "execution_count": 629,
   "id": "64a74850",
   "metadata": {},
   "outputs": [
    {
     "data": {
      "text/plain": [
       "Text(0.5, 1.0, 'Housing price by living area size')"
      ]
     },
     "execution_count": 629,
     "metadata": {},
     "output_type": "execute_result"
    },
    {
     "data": {
      "image/png": "[encoded data removed]",
      "text/plain": [
       "<Figure size 432x288 with 1 Axes>"
      ]
     },
     "metadata": {
      "needs_background": "light"
     },
     "output_type": "display_data"
    }
   ],
   "source": [
    "scatter_zoom = ml_data.loc[ml_data['livingAreaSqFt'] < ml_data['livingAreaSqFt'].max()*.2]\n",
    "\n",
    "plt.scatter(scatter_zoom['latestPrice'], scatter_zoom['livingAreaSqFt'])\n",
    "plt.title('Housing price by living area size', fontsize=20)"
   ]
  },
  {
   "cell_type": "code",
   "execution_count": 632,
   "id": "880b9f9e",
   "metadata": {},
   "outputs": [
    {
     "data": {
      "text/plain": [
       "Text(0.5, 1.0, 'Mean Housing price by bathrooms')"
      ]
     },
     "execution_count": 632,
     "metadata": {},
     "output_type": "execute_result"
    },
    {
     "data": {
      "image/png": "[encoded data removed]",
      "text/plain": [
       "<Figure size 432x288 with 1 Axes>"
      ]
     },
     "metadata": {
      "needs_background": "light"
     },
     "output_type": "display_data"
    }
   ],
   "source": [
    "mean_price_by_bathrooms = ml_data.groupby(['numOfBathrooms']).mean()['latestPrice']\n",
    "\n",
    "plt.plot([ 0.0, 1.0, 1.5, 1.7, 1.75, 2.0, 2.5, 2.75, 3.0, 3.5, 4.0, \n",
    "          4.5, 5.0, 5.5, 6.0, 6.5, 7.0, 8.0, 9.0, 10.0], mean_price_by_bathrooms)\n",
    "plt.title('Mean Housing price by bathrooms', fontsize=15)"
   ]
  },
  {
   "cell_type": "code",
   "execution_count": 670,
   "id": "f1d8989f",
   "metadata": {},
   "outputs": [
    {
     "data": {
      "text/plain": [
       "Text(0.5, 1.0, 'Mean Housing price by School Distance')"
      ]
     },
     "execution_count": 670,
     "metadata": {},
     "output_type": "execute_result"
    },
    {
     "data": {
      "image/png": "[encoded data removed]",
      "text/plain": [
       "<Figure size 432x288 with 1 Axes>"
      ]
     },
     "metadata": {
      "needs_background": "light"
     },
     "output_type": "display_data"
    }
   ],
   "source": [
    "import numpy as np\n",
    "\n",
    "mean_price_by_school_distance = ml_data.sort_values(['avgSchoolDistance'], ascending=True).groupby(['avgSchoolDistance']).mean()['latestPrice']\n",
    "school_distance = np.sort(ml_data['avgSchoolDistance'].unique())\n",
    "school_distance\n",
    "\n",
    "plt.plot(school_distance, mean_price_by_school_distance)\n",
    "plt.title('Mean Housing price by School Distance', fontsize=15)"
   ]
  },
  {
   "cell_type": "code",
   "execution_count": 767,
   "id": "1c9288f5",
   "metadata": {},
   "outputs": [
    {
     "data": {
      "text/plain": [
       "7.699999999999998"
      ]
     },
     "execution_count": 767,
     "metadata": {},
     "output_type": "execute_result"
    }
   ],
   "source": [
    "ml_data['avgSchoolDistance'].max()"
   ]
  },
  {
   "cell_type": "code",
   "execution_count": 802,
   "id": "3d44b0a4",
   "metadata": {},
   "outputs": [
    {
     "data": {
      "text/plain": [
       "Index(['hometype', 'hasgarage', 'yearbuilt', 'zipcode', 'latest_saleyear',\n",
       "       'lotsizesqft', 'livingareasqft', 'numofbathrooms', 'numofbedrooms',\n",
       "       'numofstories', 'avgschooldistance'],\n",
       "      dtype='object')"
      ]
     },
     "execution_count": 802,
     "metadata": {},
     "output_type": "execute_result"
    }
   ],
   "source": [
    "X_train.columns"
   ]
  },
  {
   "cell_type": "code",
   "execution_count": 878,
   "id": "9eafb1d7",
   "metadata": {},
   "outputs": [
    {
     "data": {
      "text/plain": [
       "2020"
      ]
     },
     "execution_count": 878,
     "metadata": {},
     "output_type": "execute_result"
    }
   ],
   "source": [
    "X['yearbuilt'].unique().max()"
   ]
  },
  {
   "cell_type": "code",
   "execution_count": 879,
   "id": "a27d8f58",
   "metadata": {},
   "outputs": [
    {
     "data": {
      "text/plain": [
       "1905"
      ]
     },
     "execution_count": 879,
     "metadata": {},
     "output_type": "execute_result"
    }
   ],
   "source": [
    "X['yearbuilt'].unique().min()"
   ]
  },
  {
   "cell_type": "code",
   "execution_count": 882,
   "id": "b9cb6b0f",
   "metadata": {},
   "outputs": [
    {
     "data": {
      "text/plain": [
       "array([78652, 78653, 78701, 78702, 78703, 78704, 78705, 78717, 78719,\n",
       "       78721, 78722, 78723, 78724, 78725, 78726, 78727, 78728, 78729,\n",
       "       78730, 78731, 78732, 78733, 78734, 78735, 78736, 78737, 78738,\n",
       "       78739, 78741, 78742, 78744, 78745, 78746, 78747, 78748, 78749,\n",
       "       78750, 78751, 78752, 78753, 78754, 78756, 78757, 78758, 78759],\n",
       "      dtype=int64)"
      ]
     },
     "execution_count": 882,
     "metadata": {},
     "output_type": "execute_result"
    }
   ],
   "source": [
    "np.sort(X['zipcode'].unique())"
   ]
  },
  {
   "cell_type": "code",
   "execution_count": 884,
   "id": "7c66c640",
   "metadata": {},
   "outputs": [
    {
     "data": {
      "text/plain": [
       "array([ 1.  ,  6.  ,  4.  ,  2.  ,  5.  ,  3.  ,  7.  ,  8.  , 10.  ,\n",
       "        2.5 ,  6.5 ,  0.  ,  3.5 ,  4.5 ,  5.5 ,  2.75,  1.5 ,  1.75,\n",
       "        9.  ,  1.7 ])"
      ]
     },
     "execution_count": 884,
     "metadata": {},
     "output_type": "execute_result"
    }
   ],
   "source": [
    "X['numofbathrooms'].unique()"
   ]
  },
  {
   "cell_type": "code",
   "execution_count": 885,
   "id": "6c159c65",
   "metadata": {},
   "outputs": [
    {
     "data": {
      "text/plain": [
       "array([ 2.,  5.,  3.,  4.,  8.,  7.,  6.,  1., 10.])"
      ]
     },
     "execution_count": 885,
     "metadata": {},
     "output_type": "execute_result"
    }
   ],
   "source": [
    "X['numofbedrooms'].unique()"
   ]
  },
  {
   "cell_type": "code",
   "execution_count": 887,
   "id": "1d092be2",
   "metadata": {},
   "outputs": [
    {
     "data": {
      "text/plain": [
       "array([1., 2., 3., 4.])"
      ]
     },
     "execution_count": 887,
     "metadata": {},
     "output_type": "execute_result"
    }
   ],
   "source": [
    "X['numofstories'].unique()"
   ]
  },
  {
   "cell_type": "code",
   "execution_count": 891,
   "id": "fd3228cc",
   "metadata": {},
   "outputs": [
    {
     "data": {
      "text/plain": [
       "7.699999999999998"
      ]
     },
     "execution_count": 891,
     "metadata": {},
     "output_type": "execute_result"
    }
   ],
   "source": [
    "X['avgschooldistance'].max()"
   ]
  },
  {
   "cell_type": "code",
   "execution_count": null,
   "id": "28bd8550",
   "metadata": {},
   "outputs": [],
   "source": []
  }
 ],
 "metadata": {
  "kernelspec": {
   "display_name": "mlenv",
   "language": "python",
   "name": "mlenv"
  },
  "language_info": {
   "codemirror_mode": {
    "name": "ipython",
    "version": 3
   },
   "file_extension": ".py",
   "mimetype": "text/x-python",
   "name": "python",
   "nbconvert_exporter": "python",
   "pygments_lexer": "ipython3",
   "version": "3.7.10"
  }
 },
 "nbformat": 4,
 "nbformat_minor": 5
}
