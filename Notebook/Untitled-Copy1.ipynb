{
 "cells": [
  {
   "cell_type": "code",
   "execution_count": 4,
   "id": "852823af",
   "metadata": {},
   "outputs": [],
   "source": [
    "import pandas as pd"
   ]
  },
  {
   "cell_type": "code",
   "execution_count": 5,
   "id": "73772d9e",
   "metadata": {},
   "outputs": [
    {
     "name": "stderr",
     "output_type": "stream",
     "text": [
      "E:\\Users\\Ajay\\anaconda3\\envs\\mlenv\\lib\\site-packages\\IPython\\core\\interactiveshell.py:3166: DtypeWarning: Columns (40,41,43,45,46,47,86) have mixed types.Specify dtype option on import or set low_memory=False.\n",
      "  interactivity=interactivity, compiler=compiler, result=result)\n"
     ]
    },
    {
     "data": {
      "text/html": [
       "<div>\n",
       "<style scoped>\n",
       "    .dataframe tbody tr th:only-of-type {\n",
       "        vertical-align: middle;\n",
       "    }\n",
       "\n",
       "    .dataframe tbody tr th {\n",
       "        vertical-align: top;\n",
       "    }\n",
       "\n",
       "    .dataframe thead th {\n",
       "        text-align: right;\n",
       "    }\n",
       "</style>\n",
       "<table border=\"1\" class=\"dataframe\">\n",
       "  <thead>\n",
       "    <tr style=\"text-align: right;\">\n",
       "      <th></th>\n",
       "      <th>Unnamed: 0</th>\n",
       "      <th>borough</th>\n",
       "      <th>neighborhood</th>\n",
       "      <th>building_class_category</th>\n",
       "      <th>tax_class</th>\n",
       "      <th>block</th>\n",
       "      <th>lot</th>\n",
       "      <th>easement</th>\n",
       "      <th>building_class</th>\n",
       "      <th>address</th>\n",
       "      <th>...</th>\n",
       "      <th>EDesigNum</th>\n",
       "      <th>APPBBL</th>\n",
       "      <th>APPDate</th>\n",
       "      <th>PLUTOMapID</th>\n",
       "      <th>FIRM07_FLA</th>\n",
       "      <th>PFIRM15_FL</th>\n",
       "      <th>Version</th>\n",
       "      <th>MAPPLUTO_F</th>\n",
       "      <th>SHAPE_Leng</th>\n",
       "      <th>SHAPE_Area</th>\n",
       "    </tr>\n",
       "  </thead>\n",
       "  <tbody>\n",
       "    <tr>\n",
       "      <th>0</th>\n",
       "      <td>1</td>\n",
       "      <td>3</td>\n",
       "      <td>DOWNTOWN-METROTECH</td>\n",
       "      <td>28  COMMERCIAL CONDOS</td>\n",
       "      <td>4</td>\n",
       "      <td>140</td>\n",
       "      <td>1001</td>\n",
       "      <td>NaN</td>\n",
       "      <td>R5</td>\n",
       "      <td>330 JAY STREET</td>\n",
       "      <td>...</td>\n",
       "      <td>NaN</td>\n",
       "      <td>NaN</td>\n",
       "      <td>NaN</td>\n",
       "      <td>NaN</td>\n",
       "      <td>NaN</td>\n",
       "      <td>NaN</td>\n",
       "      <td>NaN</td>\n",
       "      <td>NaN</td>\n",
       "      <td>NaN</td>\n",
       "      <td>NaN</td>\n",
       "    </tr>\n",
       "    <tr>\n",
       "      <th>1</th>\n",
       "      <td>2</td>\n",
       "      <td>3</td>\n",
       "      <td>DOWNTOWN-FULTON FERRY</td>\n",
       "      <td>29  COMMERCIAL GARAGES</td>\n",
       "      <td>4</td>\n",
       "      <td>54</td>\n",
       "      <td>1</td>\n",
       "      <td>NaN</td>\n",
       "      <td>G7</td>\n",
       "      <td>85 JAY STREET</td>\n",
       "      <td>...</td>\n",
       "      <td>NaN</td>\n",
       "      <td>3.000540e+09</td>\n",
       "      <td>12/06/2002</td>\n",
       "      <td>1.0</td>\n",
       "      <td>NaN</td>\n",
       "      <td>NaN</td>\n",
       "      <td>17V1.1</td>\n",
       "      <td>0.0</td>\n",
       "      <td>1559.889144</td>\n",
       "      <td>140131.577176</td>\n",
       "    </tr>\n",
       "    <tr>\n",
       "      <th>2</th>\n",
       "      <td>3</td>\n",
       "      <td>3</td>\n",
       "      <td>BROOKLYN HEIGHTS</td>\n",
       "      <td>21  OFFICE BUILDINGS</td>\n",
       "      <td>4</td>\n",
       "      <td>204</td>\n",
       "      <td>1</td>\n",
       "      <td>NaN</td>\n",
       "      <td>O6</td>\n",
       "      <td>29 COLUMBIA HEIGHTS</td>\n",
       "      <td>...</td>\n",
       "      <td>NaN</td>\n",
       "      <td>0.000000e+00</td>\n",
       "      <td>NaN</td>\n",
       "      <td>1.0</td>\n",
       "      <td>NaN</td>\n",
       "      <td>NaN</td>\n",
       "      <td>17V1.1</td>\n",
       "      <td>0.0</td>\n",
       "      <td>890.718521</td>\n",
       "      <td>34656.447240</td>\n",
       "    </tr>\n",
       "    <tr>\n",
       "      <th>3</th>\n",
       "      <td>4</td>\n",
       "      <td>3</td>\n",
       "      <td>MILL BASIN</td>\n",
       "      <td>22  STORE BUILDINGS</td>\n",
       "      <td>4</td>\n",
       "      <td>8470</td>\n",
       "      <td>55</td>\n",
       "      <td>NaN</td>\n",
       "      <td>K6</td>\n",
       "      <td>5120 AVENUE U</td>\n",
       "      <td>...</td>\n",
       "      <td>NaN</td>\n",
       "      <td>0.000000e+00</td>\n",
       "      <td>NaN</td>\n",
       "      <td>1.0</td>\n",
       "      <td>1.0</td>\n",
       "      <td>1.0</td>\n",
       "      <td>17V1.1</td>\n",
       "      <td>0.0</td>\n",
       "      <td>3729.786857</td>\n",
       "      <td>797554.847834</td>\n",
       "    </tr>\n",
       "    <tr>\n",
       "      <th>4</th>\n",
       "      <td>5</td>\n",
       "      <td>3</td>\n",
       "      <td>BROOKLYN HEIGHTS</td>\n",
       "      <td>26 OTHER HOTELS</td>\n",
       "      <td>4</td>\n",
       "      <td>230</td>\n",
       "      <td>1</td>\n",
       "      <td>NaN</td>\n",
       "      <td>H8</td>\n",
       "      <td>21 CLARK STREET</td>\n",
       "      <td>...</td>\n",
       "      <td>NaN</td>\n",
       "      <td>0.000000e+00</td>\n",
       "      <td>NaN</td>\n",
       "      <td>1.0</td>\n",
       "      <td>NaN</td>\n",
       "      <td>NaN</td>\n",
       "      <td>17V1.1</td>\n",
       "      <td>0.0</td>\n",
       "      <td>620.761169</td>\n",
       "      <td>21360.147631</td>\n",
       "    </tr>\n",
       "  </tbody>\n",
       "</table>\n",
       "<p>5 rows × 111 columns</p>\n",
       "</div>"
      ],
      "text/plain": [
       "   Unnamed: 0  borough           neighborhood building_class_category  \\\n",
       "0           1        3     DOWNTOWN-METROTECH   28  COMMERCIAL CONDOS   \n",
       "1           2        3  DOWNTOWN-FULTON FERRY  29  COMMERCIAL GARAGES   \n",
       "2           3        3       BROOKLYN HEIGHTS    21  OFFICE BUILDINGS   \n",
       "3           4        3             MILL BASIN     22  STORE BUILDINGS   \n",
       "4           5        3       BROOKLYN HEIGHTS         26 OTHER HOTELS   \n",
       "\n",
       "  tax_class  block   lot  easement building_class              address  ...  \\\n",
       "0         4    140  1001       NaN             R5       330 JAY STREET  ...   \n",
       "1         4     54     1       NaN             G7        85 JAY STREET  ...   \n",
       "2         4    204     1       NaN             O6  29 COLUMBIA HEIGHTS  ...   \n",
       "3         4   8470    55       NaN             K6        5120 AVENUE U  ...   \n",
       "4         4    230     1       NaN             H8      21 CLARK STREET  ...   \n",
       "\n",
       "  EDesigNum        APPBBL     APPDate  PLUTOMapID  FIRM07_FLA  PFIRM15_FL  \\\n",
       "0       NaN           NaN         NaN         NaN         NaN         NaN   \n",
       "1       NaN  3.000540e+09  12/06/2002         1.0         NaN         NaN   \n",
       "2       NaN  0.000000e+00         NaN         1.0         NaN         NaN   \n",
       "3       NaN  0.000000e+00         NaN         1.0         1.0         1.0   \n",
       "4       NaN  0.000000e+00         NaN         1.0         NaN         NaN   \n",
       "\n",
       "   Version  MAPPLUTO_F   SHAPE_Leng     SHAPE_Area  \n",
       "0      NaN         NaN          NaN            NaN  \n",
       "1   17V1.1         0.0  1559.889144  140131.577176  \n",
       "2   17V1.1         0.0   890.718521   34656.447240  \n",
       "3   17V1.1         0.0  3729.786857  797554.847834  \n",
       "4   17V1.1         0.0   620.761169   21360.147631  \n",
       "\n",
       "[5 rows x 111 columns]"
      ]
     },
     "execution_count": 5,
     "metadata": {},
     "output_type": "execute_result"
    }
   ],
   "source": [
    "file_path = '../Resources/brooklyn_sales_map.csv'\n",
    "b_sales_df = pd.read_csv(file_path)\n",
    "\n",
    "b_sales_df.head()"
   ]
  },
  {
   "cell_type": "code",
   "execution_count": 6,
   "id": "8819b62d",
   "metadata": {},
   "outputs": [
    {
     "data": {
      "text/plain": [
       "Unnamed: 0                 390883\n",
       "borough                    390883\n",
       "neighborhood               390883\n",
       "building_class_category    390800\n",
       "tax_class                  383949\n",
       "                            ...  \n",
       "PFIRM15_FL                  27773\n",
       "Version                    303728\n",
       "MAPPLUTO_F                 303728\n",
       "SHAPE_Leng                 303728\n",
       "SHAPE_Area                 303728\n",
       "Length: 111, dtype: int64"
      ]
     },
     "execution_count": 6,
     "metadata": {},
     "output_type": "execute_result"
    }
   ],
   "source": [
    "b_sales_df.count()"
   ]
  },
  {
   "cell_type": "code",
   "execution_count": 7,
   "id": "20bfe82f",
   "metadata": {},
   "outputs": [],
   "source": [
    "# Delete empty column\n",
    "cleaning_b_sales = b_sales_df.drop(['easement'], axis=1)"
   ]
  },
  {
   "cell_type": "code",
   "execution_count": 8,
   "id": "9de03b8e",
   "metadata": {},
   "outputs": [],
   "source": [
    "#remove all rows without data in the Residential Data category\n",
    "cleaning_b_sales = cleaning_b_sales.loc[cleaning_b_sales.ResArea != 0.0]"
   ]
  },
  {
   "cell_type": "code",
   "execution_count": 9,
   "id": "b08f50b6",
   "metadata": {},
   "outputs": [
    {
     "name": "stdout",
     "output_type": "stream",
     "text": [
      "['28  COMMERCIAL CONDOS' '31  COMMERCIAL VACANT LAND'\n",
      " '08  RENTALS - ELEVATOR APARTMENTS' '29  COMMERCIAL GARAGES'\n",
      " '11A CONDO-RENTALS' '30  WAREHOUSES' '43  CONDO OFFICE BUILDINGS'\n",
      " '41  TAX CLASS 4 - OTHER' '07  RENTALS - WALKUP APARTMENTS'\n",
      " '21  OFFICE BUILDINGS' '45  CONDO HOTELS' '38  ASYLUMS AND HOMES'\n",
      " '14  RENTALS - 4-10 UNIT' '05  TAX CLASS 1 VACANT LAND'\n",
      " '46  CONDO STORE BUILDINGS' '08 RENTALS - ELEVATOR APARTMENTS'\n",
      " '22  STORE BUILDINGS' '07 RENTALS - WALKUP APARTMENTS' '27  FACTORIES'\n",
      " '13  CONDOS - ELEVATOR APARTMENTS' '48  CONDO TERRACES/GARDENS/CABANAS'\n",
      " '17  CONDOPS' '32  HOSPITAL AND HEALTH FACILITIES' '02 TWO FAMILY HOMES'\n",
      " '04  TAX CLASS 1 CONDOS' '10  COOPS - ELEVATOR APARTMENTS'\n",
      " '18  TAX CLASS 3 - UTILITY PROPERTIES' '23  LOFT BUILDINGS'\n",
      " '12  CONDOS - WALKUP APARTMENTS' '01 ONE FAMILY HOMES'\n",
      " '13 CONDOS - ELEVATOR APARTMENTS' '37  RELIGIOUS FACILITIES'\n",
      " '03 THREE FAMILY HOMES' '28 COMMERCIAL CONDOS' '17  CONDO COOPS'\n",
      " '33  EDUCATIONAL FACILITIES' '26  OTHER HOTELS' '44  CONDO PARKING'\n",
      " '15 CONDOS - 2-10 UNIT RESIDENTIAL'\n",
      " '40  SELECTED GOVERNMENTAL FACILITIES' '46 CONDO STORE BUILDINGS'\n",
      " '22 STORE BUILDINGS' '09  COOPS - WALKUP APARTMENTS'\n",
      " '42  CONDO CULTURAL/MEDICAL/EDUCATIONAL/ETC' '14 RENTALS - 4-10 UNIT'\n",
      " '35  INDOOR PUBLIC AND CULTURAL FACILITIES'\n",
      " '15  CONDOS - 2-10 UNIT RESIDENTIAL'\n",
      " '16  CONDOS - 2-10 UNIT WITH COMMERCIAL UNIT' '44 CONDO PARKING'\n",
      " '16 CONDOS - 2-10 UNIT WITH COMMERCIAL UNIT' '41 TAX CLASS 4 - OTHER'\n",
      " '10 COOPS - ELEVATOR APARTMENTS' '21 OFFICE BUILDINGS'\n",
      " '09 COOPS - WALKUP APARTMENTS' '04 TAX CLASS 1 CONDOS'\n",
      " '31 COMMERCIAL VACANT LAND' '37 RELIGIOUS FACILITIES'\n",
      " '06  TAX CLASS 1 - OTHER' '12 CONDOS - WALKUP APARTMENTS'\n",
      " '42 CONDO CULTURAL/MEDICAL/EDUCATIONAL/ETC' '43 CONDO OFFICE BUILDINGS'\n",
      " '25  LUXURY HOTELS' nan '17 CONDO COOPS' '30 WAREHOUSES'\n",
      " '48 CONDO TERRACES/GARDENS/CABANAS' '05 TAX CLASS 1 VACANT LAND'\n",
      " '49  CONDO WAREHOUSES/FACTORY/INDUS' '11  SPECIAL CONDO BILLING LOTS'\n",
      " '36  OUTDOOR RECREATIONAL FACILITIES'\n",
      " '18  TAX CLASS 3 - UNTILITY PROPERTIES' '47  CONDO NON-BUSINESS STORAGE'\n",
      " '47 CONDO NON-BUSINESS STORAGE' '49 CONDO WAREHOUSES/FACTORY/INDUS'\n",
      " '34  THEATRES' '33 EDUCATIONAL FACILITIES'\n",
      " '35 INDOOR PUBLIC AND CULTURAL FACILITIES'\n",
      " '39  TRANSPORTATION FACILITIES']\n"
     ]
    }
   ],
   "source": [
    "print(cleaning_b_sales['building_class_category'].unique())"
   ]
  },
  {
   "cell_type": "code",
   "execution_count": 14,
   "id": "779e3fb5",
   "metadata": {},
   "outputs": [],
   "source": [
    "cleaning_b_sales = cleaning_b_sales.loc[(cleaning_b_sales['building_class_category'] == '01 ONE FAMILY HOMES') \n",
    "]"
   ]
  },
  {
   "cell_type": "code",
   "execution_count": 15,
   "id": "dfe27b3f",
   "metadata": {},
   "outputs": [],
   "source": [
    "cleaning_b_sales = cleaning_b_sales.drop(['Borough', 'ZoneDist4', 'ZoneDist3', 'ZoneDist2'], axis=1)"
   ]
  },
  {
   "cell_type": "code",
   "execution_count": 18,
   "id": "c73b8741",
   "metadata": {},
   "outputs": [],
   "source": [
    "cleaning_b_sales = cleaning_b_sales.loc[(cleaning_b_sales['sale_price'] != 0) | (cleaning_b_sales['sale_price'] != 'N/A')] "
   ]
  },
  {
   "cell_type": "code",
   "execution_count": 19,
   "id": "50d2075b",
   "metadata": {},
   "outputs": [
    {
     "data": {
      "text/plain": [
       "Unnamed: 0                 53654\n",
       "borough                    53654\n",
       "neighborhood               53654\n",
       "building_class_category    53654\n",
       "tax_class                  53073\n",
       "                           ...  \n",
       "PFIRM15_FL                  6838\n",
       "Version                    52706\n",
       "MAPPLUTO_F                 52706\n",
       "SHAPE_Leng                 52706\n",
       "SHAPE_Area                 52706\n",
       "Length: 106, dtype: int64"
      ]
     },
     "execution_count": 19,
     "metadata": {},
     "output_type": "execute_result"
    }
   ],
   "source": [
    "cleaning_b_sales.count()"
   ]
  },
  {
   "cell_type": "code",
   "execution_count": null,
   "id": "fc730041",
   "metadata": {},
   "outputs": [],
   "source": []
  }
 ],
 "metadata": {
  "kernelspec": {
   "display_name": "mlenv",
   "language": "python",
   "name": "mlenv"
  },
  "language_info": {
   "codemirror_mode": {
    "name": "ipython",
    "version": 3
   },
   "file_extension": ".py",
   "mimetype": "text/x-python",
   "name": "python",
   "nbconvert_exporter": "python",
   "pygments_lexer": "ipython3",
   "version": "3.7.10"
  }
 },
 "nbformat": 4,
 "nbformat_minor": 5
}
